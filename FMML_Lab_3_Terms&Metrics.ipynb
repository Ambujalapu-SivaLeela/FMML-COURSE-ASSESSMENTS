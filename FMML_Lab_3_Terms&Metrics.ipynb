{
  "nbformat": 4,
  "nbformat_minor": 0,
  "metadata": {
    "colab": {
      "provenance": [],
      "collapsed_sections": []
    },
    "kernelspec": {
      "name": "python3",
      "display_name": "Python 3"
    },
    "language_info": {
      "name": "python"
    }
  },
  "cells": [
    {
      "cell_type": "markdown",
      "metadata": {
        "id": "3Eu9VZbF01eq"
      },
      "source": [
        "# Machine learning terms and metrics\n",
        "\n",
        "FMML Module 1, Lab 3<br>\n",
        "Module Coordinator: Amit Pandey amit.pandey@research.iiit.ac.in <br>\n",
        "<br>\n",
        "\n",
        " In this lab, we will show a part of the ML pipeline by extracting features, training and testing. We will also explore how data augmentation affects accuracy."
      ]
    },
    {
      "cell_type": "code",
      "metadata": {
        "id": "8qBvyEem0vLi"
      },
      "source": [
        "import matplotlib.pyplot as plt\n",
        "import numpy as np\n",
        "from sklearn import datasets\n",
        "# set randomseed\n",
        "rng = np.random.default_rng(seed=42)"
      ],
      "execution_count": null,
      "outputs": []
    },
    {
      "cell_type": "markdown",
      "metadata": {
        "id": "u3t59g5s1HfC"
      },
      "source": [
        "In this lab, we will use the California Housing dataset. There are 20640 samples, each with 8 attributes like income of the block, age of the houses per district etc. The task is to predict the cost of the houses per district. \n",
        "\n",
        "Let us download and examine the dataset. "
      ]
    },
    {
      "cell_type": "code",
      "metadata": {
        "id": "8LpqjN991GGJ",
        "colab": {
          "base_uri": "https://localhost:8080/"
        },
        "outputId": "1dd159ee-a343-43f3-d00e-0b73b6ffd44b"
      },
      "source": [
        " dataset =  datasets.fetch_california_housing()\n",
        " # print(dataset.DESCR)  # uncomment this if you want to know more about this dataset\n",
        " # print(dataset.keys())  # if you want to know what else is there in this dataset\n",
        " dataset.target = dataset.target.astype(np.int) # so that we can classify\n",
        " print(dataset.data.shape)\n",
        " print(dataset.target.shape)"
      ],
      "execution_count": null,
      "outputs": [
        {
          "output_type": "stream",
          "name": "stdout",
          "text": [
            "(20640, 8)\n",
            "(20640,)\n"
          ]
        },
        {
          "output_type": "stream",
          "name": "stderr",
          "text": [
            "/usr/local/lib/python3.7/dist-packages/ipykernel_launcher.py:4: DeprecationWarning: `np.int` is a deprecated alias for the builtin `int`. To silence this warning, use `int` by itself. Doing this will not modify any behavior and is safe. When replacing `np.int`, you may wish to use e.g. `np.int64` or `np.int32` to specify the precision. If you wish to review your current use, check the release note link for additional information.\n",
            "Deprecated in NumPy 1.20; for more details and guidance: https://numpy.org/devdocs/release/1.20.0-notes.html#deprecations\n",
            "  after removing the cwd from sys.path.\n"
          ]
        }
      ]
    },
    {
      "cell_type": "markdown",
      "metadata": {
        "id": "iNx4174W5xRg"
      },
      "source": [
        "Here is a function for calculating the 1-nearest neighbours"
      ]
    },
    {
      "cell_type": "code",
      "source": [
        "type(dataset), dataset.DESCR"
      ],
      "metadata": {
        "colab": {
          "base_uri": "https://localhost:8080/"
        },
        "id": "ut5lj4HsaTfp",
        "outputId": "d8cf92cf-30ed-4310-9efe-cae575292264"
      },
      "execution_count": null,
      "outputs": [
        {
          "output_type": "execute_result",
          "data": {
            "text/plain": [
              "(sklearn.utils.Bunch,\n",
              " '.. _california_housing_dataset:\\n\\nCalifornia Housing dataset\\n--------------------------\\n\\n**Data Set Characteristics:**\\n\\n    :Number of Instances: 20640\\n\\n    :Number of Attributes: 8 numeric, predictive attributes and the target\\n\\n    :Attribute Information:\\n        - MedInc        median income in block group\\n        - HouseAge      median house age in block group\\n        - AveRooms      average number of rooms per household\\n        - AveBedrms     average number of bedrooms per household\\n        - Population    block group population\\n        - AveOccup      average number of household members\\n        - Latitude      block group latitude\\n        - Longitude     block group longitude\\n\\n    :Missing Attribute Values: None\\n\\nThis dataset was obtained from the StatLib repository.\\nhttps://www.dcc.fc.up.pt/~ltorgo/Regression/cal_housing.html\\n\\nThe target variable is the median house value for California districts,\\nexpressed in hundreds of thousands of dollars ($100,000).\\n\\nThis dataset was derived from the 1990 U.S. census, using one row per census\\nblock group. A block group is the smallest geographical unit for which the U.S.\\nCensus Bureau publishes sample data (a block group typically has a population\\nof 600 to 3,000 people).\\n\\nAn household is a group of people residing within a home. Since the average\\nnumber of rooms and bedrooms in this dataset are provided per household, these\\ncolumns may take surpinsingly large values for block groups with few households\\nand many empty houses, such as vacation resorts.\\n\\nIt can be downloaded/loaded using the\\n:func:`sklearn.datasets.fetch_california_housing` function.\\n\\n.. topic:: References\\n\\n    - Pace, R. Kelley and Ronald Barry, Sparse Spatial Autoregressions,\\n      Statistics and Probability Letters, 33 (1997) 291-297\\n')"
            ]
          },
          "metadata": {},
          "execution_count": 3
        }
      ]
    },
    {
      "cell_type": "code",
      "metadata": {
        "id": "07zpydQj1hIQ",
        "outputId": "59a6f3d4-26d0-4d29-ac5e-6c889801907e",
        "colab": {
          "base_uri": "https://localhost:8080/"
        }
      },
      "source": [
        "def NN1(traindata, trainlabel, query):\n",
        "  diff  = traindata - query  # find the difference between features. Numpy automatically takes care of the size here \n",
        "  sq = diff*diff # square the differences\n",
        "  dist = sq.sum(1) # add up the squares\n",
        "  label = trainlabel[np.argmin(dist)] # our predicted label is the label of the training data which has the least distance from the query\n",
        "  return label\n",
        "\n",
        "def NN(traindata, trainlabel, testdata):\n",
        "  # we will run nearest neighbour for each sample in the test data \n",
        "  # and collect the predicted classes in an array using list comprehension\n",
        "  predlabel = np.array([NN1(traindata, trainlabel, i) for i in testdata])\n",
        "  return predlabel\n",
        "\n",
        "\n",
        "\n",
        "5,5\n",
        "6,6\n",
        "8,9\n",
        "\n",
        "\n",
        "0,0"
      ],
      "execution_count": null,
      "outputs": [
        {
          "output_type": "execute_result",
          "data": {
            "text/plain": [
              "(0, 0)"
            ]
          },
          "metadata": {},
          "execution_count": 4
        }
      ]
    },
    {
      "cell_type": "markdown",
      "metadata": {
        "id": "03JktkfIGaje"
      },
      "source": [
        "We will also define a 'random classifier', which randomly allots labels to each sample"
      ]
    },
    {
      "cell_type": "code",
      "metadata": {
        "id": "fogWAtjyGhAH"
      },
      "source": [
        "def RandomClassifier(traindata, trainlabel, testdata):\n",
        "  # in reality, we don't need these arguments\n",
        "\n",
        "  classes = np.unique(trainlabel)\n",
        "  rints = rng.integers(low=0, high=len(classes), size=len(testdata))\n",
        "  predlabel = classes[rints]\n",
        "  return predlabel"
      ],
      "execution_count": null,
      "outputs": []
    },
    {
      "cell_type": "markdown",
      "metadata": {
        "id": "1Hjf1KHs7fU5"
      },
      "source": [
        "Let us define a metric 'Accuracy' to see how good our learning algorithm is. Accuracy is the ratio of the number of correctly classified samples to the total number of samples. The higher the accuracy, the better the algorithm. "
      ]
    },
    {
      "cell_type": "code",
      "metadata": {
        "id": "ouuCqWU07bz-"
      },
      "source": [
        "def Accuracy(gtlabel, predlabel):\n",
        "  assert len(gtlabel)==len(predlabel), \"Length of the groundtruth labels and predicted labels should be the same\"\n",
        "  correct = (gtlabel==predlabel).sum() # count the number of times the groundtruth label is equal to the predicted label.\n",
        "  return correct/len(gtlabel)"
      ],
      "execution_count": null,
      "outputs": []
    },
    {
      "cell_type": "markdown",
      "metadata": {
        "id": "4vJFwBFa9Klw"
      },
      "source": [
        "Let us make a function to split the dataset with the desired probability."
      ]
    },
    {
      "cell_type": "code",
      "metadata": {
        "id": "Ko0VzpSM2Tdi"
      },
      "source": [
        "def split(data, label, percent):\n",
        "  # generate a random number for each sample\n",
        "  rnd = rng.random(len(label))\n",
        "  split1 = rnd<percent\n",
        "  split2 = rnd>=percent\n",
        "  split1data = data[split1,:]\n",
        "  split1label = label[split1]\n",
        "  split2data = data[split2,:]\n",
        "  split2label = label[split2]\n",
        "  return split1data, split1label, split2data, split2label"
      ],
      "execution_count": null,
      "outputs": []
    },
    {
      "cell_type": "markdown",
      "metadata": {
        "id": "AcK3LEAJ_LGC"
      },
      "source": [
        "We will reserve 20% of our dataset as the test set. We will not change this portion throughout our experiments"
      ]
    },
    {
      "cell_type": "code",
      "metadata": {
        "id": "bBZkHBLJ1iU-",
        "colab": {
          "base_uri": "https://localhost:8080/"
        },
        "outputId": "2c608913-9046-48fc-cff2-8bc493bc82a3"
      },
      "source": [
        "testdata, testlabel, alltraindata, alltrainlabel = split(dataset.data, dataset.target, 20/100)\n",
        "print('Number of test samples = ', len(testlabel))\n",
        "print('Number of other samples = ', len(alltrainlabel))\n",
        "print('Percent of test data = ', len(testlabel)*100/len(dataset.target),'%')"
      ],
      "execution_count": null,
      "outputs": [
        {
          "output_type": "stream",
          "name": "stdout",
          "text": [
            "Number of test samples =  4144\n",
            "Number of other samples =  16496\n",
            "Percent of test data =  20.07751937984496 %\n"
          ]
        }
      ]
    },
    {
      "cell_type": "markdown",
      "metadata": {
        "id": "a6Ss0Z6IAGNV"
      },
      "source": [
        "## Experiments with splits\n",
        "\n",
        "Let us reserve some of our train data as a validation set"
      ]
    },
    {
      "cell_type": "code",
      "metadata": {
        "id": "WFew2iry_7W7"
      },
      "source": [
        "traindata, trainlabel, valdata, vallabel = split(alltraindata, alltrainlabel, 75/100)"
      ],
      "execution_count": null,
      "outputs": []
    },
    {
      "cell_type": "markdown",
      "metadata": {
        "id": "60hiu4clFN1i"
      },
      "source": [
        "What is the accuracy of our classifiers on the train dataset?"
      ]
    },
    {
      "cell_type": "code",
      "metadata": {
        "id": "DBlZDTHUFTZx",
        "colab": {
          "base_uri": "https://localhost:8080/"
        },
        "outputId": "8c7ce1c2-343b-4579-f68e-6a1ce40bff6a"
      },
      "source": [
        "trainpred = NN(traindata, trainlabel, traindata)\n",
        "trainAccuracy = Accuracy(trainlabel, trainpred)\n",
        "print(\"Train accuracy using nearest neighbour is \", trainAccuracy)\n",
        "\n",
        "trainpred = RandomClassifier(traindata, trainlabel, traindata)\n",
        "trainAccuracy = Accuracy(trainlabel, trainpred)\n",
        "print(\"Train accuracy using random classifier is \", trainAccuracy)"
      ],
      "execution_count": null,
      "outputs": [
        {
          "output_type": "stream",
          "name": "stdout",
          "text": [
            "Train accuracy using nearest neighbour is  1.0\n",
            "Train accuracy using random classifier is  0.17205692108667528\n"
          ]
        }
      ]
    },
    {
      "cell_type": "code",
      "source": [
        "5,5 - A\n",
        "6,6 -B\n",
        "7,7 -C\n",
        "\n",
        "\n",
        "\n",
        "8,8 - A | C\n",
        "0,0 -B | A   - 0\n",
        "\n",
        "\n",
        "10,10     -A\n",
        "15,15     -C"
      ],
      "metadata": {
        "id": "eGI5-mJwDqr1",
        "outputId": "718e965a-aec0-4900-a960-6d1a2f2d2615",
        "colab": {
          "base_uri": "https://localhost:8080/",
          "height": 235
        }
      },
      "execution_count": null,
      "outputs": [
        {
          "output_type": "error",
          "ename": "NameError",
          "evalue": "ignored",
          "traceback": [
            "\u001b[0;31m---------------------------------------------------------------------------\u001b[0m",
            "\u001b[0;31mNameError\u001b[0m                                 Traceback (most recent call last)",
            "\u001b[0;32m<ipython-input-11-8f853d8ba166>\u001b[0m in \u001b[0;36m<module>\u001b[0;34m\u001b[0m\n\u001b[0;32m----> 1\u001b[0;31m \u001b[0;36m5\u001b[0m\u001b[0;34m,\u001b[0m\u001b[0;36m5\u001b[0m \u001b[0;34m-\u001b[0m \u001b[0mA\u001b[0m\u001b[0;34m\u001b[0m\u001b[0;34m\u001b[0m\u001b[0m\n\u001b[0m\u001b[1;32m      2\u001b[0m \u001b[0;36m6\u001b[0m\u001b[0;34m,\u001b[0m\u001b[0;36m6\u001b[0m \u001b[0;34m-\u001b[0m\u001b[0mB\u001b[0m\u001b[0;34m\u001b[0m\u001b[0;34m\u001b[0m\u001b[0m\n\u001b[1;32m      3\u001b[0m \u001b[0;36m7\u001b[0m\u001b[0;34m,\u001b[0m\u001b[0;36m7\u001b[0m \u001b[0;34m-\u001b[0m\u001b[0mC\u001b[0m\u001b[0;34m\u001b[0m\u001b[0;34m\u001b[0m\u001b[0m\n\u001b[1;32m      4\u001b[0m \u001b[0;34m\u001b[0m\u001b[0m\n\u001b[1;32m      5\u001b[0m \u001b[0;34m\u001b[0m\u001b[0m\n",
            "\u001b[0;31mNameError\u001b[0m: name 'A' is not defined"
          ]
        }
      ]
    },
    {
      "cell_type": "markdown",
      "source": [
        "## Interesting: See how train accuracy of nearest neighbour is 1 i.e. 100%. Ponder and Explain."
      ],
      "metadata": {
        "id": "tW_I-YuhbQqA"
      }
    },
    {
      "cell_type": "markdown",
      "metadata": {
        "id": "7h08-9gJDtSy"
      },
      "source": [
        "For nearest neighbour, the train accuracy is always 1. The accuracy of the random classifier is close to 1/(number of classes) which is 0.1666 in our case.\n",
        "\n",
        "Let us predict the labels for our validation set and get the accuracy"
      ]
    },
    {
      "cell_type": "code",
      "metadata": {
        "id": "4h7bXoW_2H3v",
        "colab": {
          "base_uri": "https://localhost:8080/"
        },
        "outputId": "1e21f28f-118b-428a-dff7-82fabc632abc"
      },
      "source": [
        "valpred = NN(traindata, trainlabel, valdata)\n",
        "valAccuracy = Accuracy(vallabel, valpred)\n",
        "print(\"Validation accuracy using nearest neighbour is \", valAccuracy)\n",
        "\n",
        "valpred = RandomClassifier(traindata, trainlabel, valdata)\n",
        "valAccuracy = Accuracy(vallabel, valpred)\n",
        "print(\"Validation accuracy using random classifier is \", valAccuracy)"
      ],
      "execution_count": null,
      "outputs": [
        {
          "output_type": "stream",
          "name": "stdout",
          "text": [
            "Validation accuracy using nearest neighbour is  0.34108527131782945\n",
            "Validation accuracy using random classifier is  0.1686046511627907\n"
          ]
        }
      ]
    },
    {
      "cell_type": "markdown",
      "metadata": {
        "id": "py9bLguFEjfg"
      },
      "source": [
        "Validation accuracy of nearest neighbour is considerably less than its train accuracy while the validation accuracy of random classifier is the same. However, the validation accuracy of nearest neighbour is twice that of the random classifier. \n",
        "\n",
        "Now let us try another random split and check the validation accuracy"
      ]
    },
    {
      "cell_type": "code",
      "metadata": {
        "id": "ujm3cyYzEntE",
        "colab": {
          "base_uri": "https://localhost:8080/"
        },
        "outputId": "f94bb4cc-9ec4-425e-b988-d8143a9a3f61"
      },
      "source": [
        "traindata, trainlabel, valdata, vallabel = split(alltraindata, alltrainlabel, 75/100)\n",
        "valpred = NN(traindata, trainlabel, valdata)\n",
        "valAccuracy = Accuracy(vallabel, valpred)\n",
        "print(\"Validation accuracy of nearest neighbour is \", valAccuracy)"
      ],
      "execution_count": null,
      "outputs": [
        {
          "output_type": "stream",
          "name": "stdout",
          "text": [
            "Validation accuracy of nearest neighbour is  0.3395999035912268\n"
          ]
        }
      ]
    },
    {
      "cell_type": "markdown",
      "metadata": {
        "id": "oSOx7U83EKie"
      },
      "source": [
        "You can run the above cell multiple times to try with different random splits. \n",
        "We notice that the accuracy is different for each run, but close together. \n",
        "\n",
        "Now let us compare it with the accuracy we get on the test dataset. "
      ]
    },
    {
      "cell_type": "code",
      "metadata": {
        "id": "PNEZ5ToYBEDW",
        "colab": {
          "base_uri": "https://localhost:8080/"
        },
        "outputId": "d96d284c-faee-4cad-e6a2-e852d25f5ce6"
      },
      "source": [
        "testpred = NN(alltraindata, alltrainlabel, testdata)\n",
        "testAccuracy = Accuracy(testlabel, testpred)\n",
        "print('Test accuracy is ', testAccuracy)"
      ],
      "execution_count": null,
      "outputs": [
        {
          "output_type": "stream",
          "name": "stdout",
          "text": [
            "Test accuracy is  0.34917953667953666\n"
          ]
        }
      ]
    },
    {
      "cell_type": "markdown",
      "metadata": {
        "id": "w3dGD531K3gH"
      },
      "source": [
        "### Try it out for yourself and answer:\n",
        "1. How is the accuracy of the validation set affected if we increase the percentage of validation set? What happens when we reduce it?\n",
        "2. How does the size of the train and validation set affect how well we can predict the accuracy on the test set using the validation set?\n",
        "3. What do you think is a good percentage to reserve for the validation set so that thest two factors are balanced? \n",
        "\n",
        "Answer for both nearest neighbour and random classifier. You can note down the values for your experiments and plot a graph using  <a href=https://matplotlib.org/stable/gallery/lines_bars_and_markers/step_demo.html#sphx-glr-gallery-lines-bars-and-markers-step-demo-py>plt.plot<href>. Check also for extreme values for splits, like 99.9% or 0.1%"
      ]
    },
    {
      "cell_type": "markdown",
      "source": [
        "## **ANSWER FOR QUESTION 1**"
      ],
      "metadata": {
        "id": "6rQMRRtOD6k9"
      }
    },
    {
      "cell_type": "markdown",
      "source": [
        "\n",
        "\n",
        "* There is no effect for the accuracy if we increase the percentage of validation set.If we reduce the percentage of validation set we don't get the best accuracy.\n",
        "\n",
        "\n",
        "\n",
        "\n",
        "\n"
      ],
      "metadata": {
        "id": "8F4X54PHEABb"
      }
    },
    {
      "cell_type": "markdown",
      "source": [
        "## **ANSWER FOR QUESTION 2**"
      ],
      "metadata": {
        "id": "bMDeE07aEKaN"
      }
    },
    {
      "cell_type": "markdown",
      "source": [
        "\n",
        "\n",
        "* The training set should not small.If the validation set is too small ,then the evaluation metrices like accuracy,precision,recall and F score will have large variance and will not lead to proper tanning of model. \n",
        "\n"
      ],
      "metadata": {
        "id": "kwj1olr7EQp5"
      }
    },
    {
      "cell_type": "markdown",
      "source": [
        "## **ANSWER FOR QUESTION 3**"
      ],
      "metadata": {
        "id": "7bqEqiw4EQmV"
      }
    },
    {
      "cell_type": "markdown",
      "source": [
        "\n",
        "\n",
        "* In general putting 80% of the data in training set,10% in the validation set,and 10% in the test set is a good to start. Train set depends on factor such as structure of model,dimension of data.\n",
        "\n",
        "\n",
        "\n"
      ],
      "metadata": {
        "id": "-FJYdVyREZ2b"
      }
    },
    {
      "cell_type": "markdown",
      "metadata": {
        "id": "PnYvkAZLQY7h"
      },
      "source": [
        "## Multiple Splits\n",
        "\n",
        "One way to get more accurate estimates for the test accuracy is by using <b>crossvalidation</b>. Here, we will try a simple version, where we do multiple train/val splits and take the average of validation accuracies as the test accuracy estimation. Here is a function for doing this. Note that this function will take a long time to execute. "
      ]
    },
    {
      "cell_type": "code",
      "source": [
        "100 --- 80 --- 75|5.   12345, 1234|5. 2345|1, 1345|2"
      ],
      "metadata": {
        "id": "k-HGXSovYQ1v",
        "outputId": "05876c43-16e6-41cc-e758-74f7f939c12b",
        "colab": {
          "base_uri": "https://localhost:8080/",
          "height": 130
        }
      },
      "execution_count": null,
      "outputs": [
        {
          "output_type": "error",
          "ename": "SyntaxError",
          "evalue": "ignored",
          "traceback": [
            "\u001b[0;36m  File \u001b[0;32m\"<ipython-input-16-4c5e91ab20ef>\"\u001b[0;36m, line \u001b[0;32m1\u001b[0m\n\u001b[0;31m    100 --- 80 --- 75|5.   12345, 1234|5. 2345|1, 1345|2\u001b[0m\n\u001b[0m                               ^\u001b[0m\n\u001b[0;31mSyntaxError\u001b[0m\u001b[0;31m:\u001b[0m invalid syntax\n"
          ]
        }
      ]
    },
    {
      "cell_type": "code",
      "metadata": {
        "id": "E4nGCUQXBTzo"
      },
      "source": [
        "# you can use this function for random classifier also\n",
        "def AverageAccuracy(alldata, alllabel, splitpercent, iterations, classifier=NN):\n",
        "  accuracy = 0\n",
        "  for ii in range(iterations):\n",
        "    traindata, trainlabel, valdata, vallabel = split(alldata, alllabel, splitpercent)\n",
        "    valpred = classifier(traindata, trainlabel, valdata)\n",
        "    accuracy += Accuracy(vallabel, valpred)\n",
        "  return accuracy/iterations # average of all accuracies"
      ],
      "execution_count": null,
      "outputs": []
    },
    {
      "cell_type": "code",
      "metadata": {
        "id": "H3qtNar7Bbik",
        "colab": {
          "base_uri": "https://localhost:8080/"
        },
        "outputId": "e27b21d0-b119-4a98-a94a-888809239046"
      },
      "source": [
        "print('Average validation accuracy is ', AverageAccuracy(alltraindata, alltrainlabel, 75/100, 10, classifier=NN))\n",
        "testpred = NN(alltraindata, alltrainlabel, testdata)\n",
        "print('test accuracy is ',Accuracy(testlabel, testpred) )"
      ],
      "execution_count": null,
      "outputs": [
        {
          "output_type": "stream",
          "name": "stdout",
          "text": [
            "Average validation accuracy is  0.33963886224608136\n",
            "test accuracy is  0.34917953667953666\n"
          ]
        }
      ]
    },
    {
      "cell_type": "markdown",
      "metadata": {
        "id": "33GIn4x5VH-d"
      },
      "source": [
        "This is a very simple way of doing cross-validation. There are many well-known algorithms for cross-validation, like k-fold cross-validation, leave-one-out etc. This will be covered in detail in a later module. For more information about cross-validation, check <a href=https://en.wikipedia.org/wiki/Cross-validation_(statistics)>Cross-validatioin (Wikipedia)</a>\n",
        "\n",
        "### Questions\n",
        "1. Does averaging the validation accuracy across multiple splits give more consistent results?\n",
        "2. Does it give more accurate estimate of test accuracy?\n",
        "3. What is the effect of the number of iterations on the estimate? Do we get a better estimate with higher iterations?\n",
        "4. Consider the results you got for the previous questions. Can we deal with a very small train dataset or validation dataset by increasing the iterations?\n"
      ]
    },
    {
      "cell_type": "markdown",
      "source": [
        "## **ANSWER FOR QUESTION 1**"
      ],
      "metadata": {
        "id": "JRnnF7sGE5y8"
      }
    },
    {
      "cell_type": "markdown",
      "source": [
        "\n",
        "\n",
        "* Yes,averaging the validation accuracy across multiple splits give more consistent results.\n",
        "\n"
      ],
      "metadata": {
        "id": "IUhqYUgmFFQk"
      }
    },
    {
      "cell_type": "markdown",
      "source": [
        "## **ANSWER FOR QUESTION 2**"
      ],
      "metadata": {
        "id": "BU36RjpCE5wC"
      }
    },
    {
      "cell_type": "markdown",
      "source": [
        "\n",
        "\n",
        "* It's useful for building more accurate machine learning models and evaluating how will they work on an independent test dataset. Cross validation is easy to understand and implement making it go to method for comparing the predictive capabilities of different models and choosing best.\n",
        "\n"
      ],
      "metadata": {
        "id": "i6-Pb68QE5td"
      }
    },
    {
      "cell_type": "markdown",
      "source": [
        "## **ANSWER FOR QUESTION 3**"
      ],
      "metadata": {
        "id": "AjZ7p5vtE5rc"
      }
    },
    {
      "cell_type": "markdown",
      "source": [
        "\n",
        "\n",
        "* There is no effect of the number of iterations on estimate. Yes,We get a better estimate with higher iteration.\n",
        "\n",
        "\n",
        "\n"
      ],
      "metadata": {
        "id": "K7zTsgqzE5oQ"
      }
    },
    {
      "cell_type": "markdown",
      "source": [
        "## **ANSWER FOR QUESTION 4**"
      ],
      "metadata": {
        "id": "TGg5MBTJFtfx"
      }
    },
    {
      "cell_type": "markdown",
      "source": [
        "\n",
        "\n",
        "* Yes we can deal with a very small train dataset or validation dataset by increasing the iterations.\n",
        "\n"
      ],
      "metadata": {
        "id": "0_xcwuLTFwZ5"
      }
    },
    {
      "cell_type": "markdown",
      "source": [
        "## Now let us see how augmentation affects accuracy. We will pick components from what we studied in the last module"
      ],
      "metadata": {
        "id": "UUft9G1acwlB"
      }
    },
    {
      "cell_type": "markdown",
      "source": [
        "we will experiment with MNIST dataset\n"
      ],
      "metadata": {
        "id": "XtU3AfVDkkYM"
      }
    },
    {
      "cell_type": "code",
      "source": [
        "import numpy as np\n",
        "import matplotlib.pyplot as plt\n",
        "from keras.datasets import mnist\n",
        "# set randomseed\n",
        "rng = np.random.default_rng(seed=42)\n",
        "from sklearn.utils.extmath import cartesian\n",
        "from skimage.transform import rotate, AffineTransform, warp\n",
        "import math\n",
        "\n",
        "#loading the dataset\n",
        "(train_X, train_y), (test_X, test_y) = mnist.load_data()\n",
        "\n",
        "print(train_X[0].shape,train_y[0])\n",
        "\n"
      ],
      "metadata": {
        "colab": {
          "base_uri": "https://localhost:8080/"
        },
        "id": "47HIwFsMkebm",
        "outputId": "f90aad15-5af6-49f0-a263-61dfe66e54e4"
      },
      "execution_count": null,
      "outputs": [
        {
          "output_type": "stream",
          "name": "stdout",
          "text": [
            "Downloading data from https://storage.googleapis.com/tensorflow/tf-keras-datasets/mnist.npz\n",
            "11490434/11490434 [==============================] - 0s 0us/step\n",
            "(28, 28) 5\n"
          ]
        }
      ]
    },
    {
      "cell_type": "code",
      "source": [
        "train_X = train_X/255\n",
        "test_X = test_X/255\n",
        "\n",
        "#train_X[0].shape, train_X[0]"
      ],
      "metadata": {
        "id": "WW6ZGBcTkyXB"
      },
      "execution_count": null,
      "outputs": []
    },
    {
      "cell_type": "code",
      "source": [
        "train_X = train_X[::1200,:,:].copy() # subsample. Otherwise it will take too long!\n",
        "train_y = train_y[::1200].copy() # do the same to the labels"
      ],
      "metadata": {
        "id": "64ATS9mtk_mA"
      },
      "execution_count": null,
      "outputs": []
    },
    {
      "cell_type": "code",
      "metadata": {
        "id": "1WileBUqC404"
      },
      "source": [
        "## Augmentation functions:\n",
        "\n",
        "\n",
        "\n",
        "def augRotate(sample, angleconstraint):\n",
        "  if angleconstraint==0:\n",
        "    return sample\n",
        "\n",
        "  print(\"shape of sample before is:\", sample.shape)\n",
        "  print(\"len(sample.shape)\", len(sample.shape))\n",
        "  if len(sample.shape)==2:\n",
        "    sample = np.expand_dims(sample, 0)  # make sure the sample is 3 dimensional\n",
        "    print(\"shape of sample is:\", sample.shape)\n",
        "  angle = rng.random(len(sample)) # generate random numbers for angles\n",
        "  print(\"angle is:\", angle)\n",
        "  angle = (angle-0.5)*angleconstraint # make the random angle constrained\n",
        "  print(\"angle with constraint is:\", angle)\n",
        "  nsample = sample.copy() # preallocate the augmented array to make it faster\n",
        "  for ii in range(len(sample)):\n",
        "    nsample[ii] = rotate(sample[ii], angle[ii])\n",
        "  return np.squeeze(nsample) # take care if the input had only one sample.\n",
        "\n",
        "\n",
        "def NN1(traindata, trainlabel, query):\n",
        "  diff  = traindata - query  # find the difference between features. Numpy automatically takes care of the size here \n",
        "  sq = diff*diff # square the differences\n",
        "  dist = sq.sum(1) # add up the squares\n",
        "  label = trainlabel[np.argmin(dist)] # our predicted label is the label of the training data which has the least distance from the query\n",
        "  return label\n",
        "\n",
        "def NN(traindata, trainlabel, testdata):\n",
        "  # we will run nearest neighbour for each sample in the test data \n",
        "  # and collect the predicted classes in an array using list comprehension\n",
        "  traindata = traindata.reshape(-1, 28*28)\n",
        "  testdata = testdata.reshape(-1,28*28)\n",
        "  predlabel = np.array([NN1(traindata, trainlabel, i) for i in testdata])\n",
        "  return predlabel\n",
        "\n",
        "def Accuracy(gtlabel, predlabel):\n",
        "  assert len(gtlabel)==len(predlabel), \"Length of the groundtruth labels and predicted labels should be the same\"\n",
        "  correct = (gtlabel==predlabel).sum() # count the number of times the groundtruth label is equal to the predicted label.\n",
        "  return correct/len(gtlabel)"
      ],
      "execution_count": null,
      "outputs": []
    },
    {
      "cell_type": "code",
      "source": [
        "def shear(sample, amount):\n",
        "  tform = AffineTransform(shear = amount) # create the shear transform\n",
        "  img = warp(sample, tform) # apply the shear\n",
        "  # this makes the digit off-center. Since all the images in the test set are centralized, we will do the same here\n",
        "  col = img.sum(0).nonzero()[0]\n",
        "  row = img.sum(1).nonzero()[0]\n",
        "  if len(col)>0 and len(row)>0:\n",
        "    xshift = int(sample.shape[0]/2 - (row[0]+row[-1])/2)\n",
        "    yshift = int(sample.shape[1]/2 - (col[0]+col[-1])/2)\n",
        "    img = np.roll(img, (xshift, yshift),(0,1))\n",
        "  return img\n",
        "\n",
        "def augShear(sample, shearconstraint):\n",
        "  if shearconstraint==0:\n",
        "    return sample\n",
        "  if len(sample.shape)==2:\n",
        "    sample = np.expand_dims(sample, 0)  # make sure the sample is 3 dimensional\n",
        "  amt = rng.random(len(sample)) # generate random numbers for shear\n",
        "  amt = (amt-0.5)*shearconstraint # make the random shear constrained\n",
        "  nsample = sample.copy() # preallocate the augmented array to make it faster\n",
        "  for ii in range(len(sample)):\n",
        "    nsample[ii] = shear(sample[ii], amt[ii])\n",
        "  return np.squeeze(nsample) # take care if the input had only one sample.\n",
        "\n",
        "\n"
      ],
      "metadata": {
        "id": "BIsZ_Q5LqWEs"
      },
      "execution_count": null,
      "outputs": []
    },
    {
      "cell_type": "markdown",
      "source": [
        "In this lab, we will use the image pixels themselves as features, instead of extracting features. Each image has 28*28 pixels, so we will flatten them to 784 pixels to use as features. Note that this is very compute intensive and will take a long time.\n",
        "\n",
        "Let us check the baseline accuracy on the test set without any augmentations. We hope that adding augmentations will help us to get better results."
      ],
      "metadata": {
        "id": "vAFpOzQFj-2r"
      }
    },
    {
      "cell_type": "code",
      "source": [
        "testpred = NN(train_X, train_y, test_X)\n",
        "print('Baseline accuracy without augmentation is ', Accuracy(test_y, testpred))"
      ],
      "metadata": {
        "colab": {
          "base_uri": "https://localhost:8080/"
        },
        "id": "dPNdNyFVj4pX",
        "outputId": "a2253580-83b7-452f-a01a-83a69567ee5d"
      },
      "execution_count": null,
      "outputs": [
        {
          "output_type": "stream",
          "name": "stdout",
          "text": [
            "Baseline accuracy without augmentation is  0.6472\n"
          ]
        }
      ]
    },
    {
      "cell_type": "markdown",
      "source": [
        "Let us try to improve this accuracy using augmentations. When we create augmentations, we have to make sure that the changes reflect what will naturally occur in the dataset. For example, we should not add colour to our samples as an augmentation because they do not naturally occur. We should not also flip the images in MNIST, because flipped images have different meanings for digits."
      ],
      "metadata": {
        "id": "MckdgpPflSYh"
      }
    },
    {
      "cell_type": "markdown",
      "source": [
        "Let us augment the whole dataset and see if this improves the test accuracy"
      ],
      "metadata": {
        "id": "7aWfHHggmqu7"
      }
    },
    {
      "cell_type": "code",
      "source": [
        "# hyperparameters\n",
        "angleconstraint = 60\n",
        "naugmentations = 5\n",
        "\n",
        "# augment\n",
        "augdata = train_X # we include the original images also in the augmented dataset\n",
        "auglabel = train_y\n",
        "for ii in range(naugmentations):\n",
        "  augdata = np.concatenate((augdata, augRotate(train_X, angleconstraint))) # concatenate the augmented data to the set\n",
        "  auglabel = np.concatenate((auglabel, train_y))  # the labels don't change when we augment\n",
        "\n",
        "# check the test accuracy\n",
        "testpred = NN(augdata, auglabel, test_X)\n",
        "print('Accuracy after rotation augmentation is ', Accuracy(test_y, testpred))"
      ],
      "metadata": {
        "colab": {
          "base_uri": "https://localhost:8080/"
        },
        "id": "Kdn0TZ_tlMg3",
        "outputId": "7856683d-adc7-4a91-9de2-07a6d7840b8d"
      },
      "execution_count": null,
      "outputs": [
        {
          "output_type": "stream",
          "name": "stdout",
          "text": [
            "shape of sample before is: (50, 28, 28)\n",
            "len(sample.shape) 3\n",
            "angle is: [0.65193103 0.86749063 0.45389688 0.24783956 0.23666236 0.74601428\n",
            " 0.81656876 0.10527808 0.06655886 0.59443366 0.14617324 0.82466419\n",
            " 0.31033467 0.14387193 0.92097047 0.16553172 0.28472008 0.1536134\n",
            " 0.11549006 0.02114802 0.05539541 0.17464147 0.05338193 0.59114382\n",
            " 0.68071453 0.39363046 0.3179911  0.50452624 0.87500494 0.85113163\n",
            " 0.04347506 0.18149841 0.23674487 0.24938758 0.57123265 0.41626243\n",
            " 0.04925412 0.37361414 0.52375295 0.1016719  0.83345855 0.05196187\n",
            " 0.92484187 0.09911314 0.84357495 0.90265314 0.97957068 0.80202588\n",
            " 0.77947754 0.64248328]\n",
            "angle with constraint is: [  9.11586153  22.04943791  -2.76618708 -15.12962622 -15.80025822\n",
            "  14.76085681  18.99412581 -23.68331521 -26.00646858   5.66601983\n",
            " -21.22960535  19.47985143 -11.37991956 -21.36768402  25.25822835\n",
            " -20.06809664 -12.91679506 -20.78319629 -23.07059618 -28.73111902\n",
            " -26.67627545 -19.52151174 -26.79708404   5.46862897  10.84287161\n",
            "  -6.38217259 -10.92053418   0.27157422  22.50029653  21.06789761\n",
            " -27.39149628 -19.11009542 -15.79530773 -15.03674545   4.2739591\n",
            "  -5.02425446 -27.0447528   -7.58315169   1.42517692 -23.89968583\n",
            "  20.00751323 -26.88228801  25.49051214 -24.05321151  20.6144971\n",
            "  24.15918864  28.77424084  18.12155282  16.76865245   8.54899656]\n",
            "shape of sample before is: (50, 28, 28)\n",
            "len(sample.shape) 3\n",
            "angle is: [0.77899635 0.13455221 0.53606804 0.51422287 0.85757214 0.46279937\n",
            " 0.3850895  0.63956327 0.26646332 0.13976841 0.47787727 0.41688937\n",
            " 0.23256994 0.36751181 0.36639245 0.32749556 0.37946408 0.68574335\n",
            " 0.29687647 0.94885793 0.91634802 0.48091043 0.32836121 0.53543479\n",
            " 0.84856049 0.65258734 0.80439183 0.53272228 0.63291763 0.28815561\n",
            " 0.73489316 0.20240459 0.69479813 0.86071907 0.13210284 0.61437974\n",
            " 0.09509575 0.72571563 0.08449322 0.93593982 0.13740793 0.95888025\n",
            " 0.80088418 0.593682   0.7826241  0.79511484 0.94602706 0.25338335\n",
            " 0.5900759  0.0950492 ]\n",
            "angle with constraint is: [ 16.73978127 -21.9268675    2.16408216   0.85337221  21.45432865\n",
            "  -2.23203806  -6.89463023   8.37379627 -14.01220095 -21.61389534\n",
            "  -1.32736356  -4.98663788 -16.04580357  -7.94929139  -8.01645301\n",
            " -10.35026614  -7.23215522  11.14460073 -12.18741153  26.9314756\n",
            "  24.98088117  -1.1453743  -10.2983277    2.12608739  20.91362933\n",
            "   9.15524043  18.26350968   1.96333656   7.97505776 -12.71066315\n",
            "  14.09358974 -17.85572441  11.68788773  21.6431441  -22.07382976\n",
            "   6.86278443 -24.29425511  13.5429377  -24.93040687  26.15638936\n",
            " -21.7555242   27.53281475  18.05305057   5.62092027  16.95744628\n",
            "  17.70689034  26.76162377 -14.79699877   5.40455372 -24.29704815]\n",
            "shape of sample before is: (50, 28, 28)\n",
            "len(sample.shape) 3\n",
            "angle is: [0.6161657  0.1712913  0.56495061 0.57243051 0.46598515 0.52263178\n",
            " 0.76392339 0.79924472 0.49215322 0.59959344 0.93123624 0.11973359\n",
            " 0.11710357 0.08770901 0.65786329 0.4186083  0.77432142 0.67123141\n",
            " 0.33363776 0.89836655 0.76253215 0.27053494 0.36419202 0.31443998\n",
            " 0.15761165 0.14778337 0.93612746 0.43790404 0.38331982 0.72968571\n",
            " 0.55299307 0.93613999 0.78030149 0.47936956 0.37635947 0.98663154\n",
            " 0.71776024 0.95119466 0.11847858 0.85053368 0.63707388 0.12192168\n",
            " 0.588258   0.68609637 0.01230269 0.45431796 0.82539951 0.29535903\n",
            " 0.45854808 0.44231413]\n",
            "angle with constraint is: [  6.969942   -19.72252175   3.89703669   4.34583084  -2.04089082\n",
            "   1.35790653  15.8354034   17.95468299  -0.47080707   5.97560649\n",
            "  25.87417414 -22.81598469 -22.97378605 -24.73745929   9.4717971\n",
            "  -4.88350195  16.45928497  10.2738848   -9.9817345   23.90199284\n",
            "  15.75192882 -13.76790355  -8.14847893 -11.13360119 -20.54330108\n",
            " -21.13299765  26.1676478   -3.72575777  -7.00081063  13.78114252\n",
            "   3.17958392  26.16839921  16.81808963  -1.23782615  -7.41843159\n",
            "  29.1978927   13.06561416  27.0716796  -22.89128537  21.03202075\n",
            "   8.22443304 -22.6846993    5.29548     11.16578191 -29.26183885\n",
            "  -2.74092229  19.52397067 -12.27845848  -2.48711509  -3.46115238]\n",
            "shape of sample before is: (50, 28, 28)\n",
            "len(sample.shape) 3\n",
            "angle is: [0.30192739 0.9184419  0.78129404 0.11058841 0.99703466 0.87920002\n",
            " 0.28390844 0.83689658 0.10641953 0.99910473 0.66568474 0.65012502\n",
            " 0.09044073 0.8970334  0.0289995  0.24082806 0.14302188 0.77676794\n",
            " 0.19820423 0.91063823 0.65626904 0.03616271 0.00542983 0.05165792\n",
            " 0.60592518 0.80148181 0.23855282 0.84940884 0.05723194 0.80096385\n",
            " 0.92779543 0.7721084  0.69812078 0.83798022 0.0401513  0.20178211\n",
            " 0.12492368 0.50453099 0.74518813 0.63001184 0.8511311  0.15521299\n",
            " 0.73462109 0.19304149 0.27075875 0.7099047  0.98020478 0.61154361\n",
            " 0.05450031 0.61630897]\n",
            "angle with constraint is: [-11.88435651  25.10651373  16.87764213 -23.36469534  29.82207947\n",
            "  22.75200146 -12.96549373  20.21379478 -23.61482809  29.94628383\n",
            "   9.94108417   9.00750093 -24.57355638  23.82200393 -28.26002981\n",
            " -15.55031652 -21.41868749  16.60607644 -18.10774637  24.63829363\n",
            "   9.37614236 -27.83023737 -29.67420995 -26.90052498   6.35551066\n",
            "  18.08890865 -15.68683076  20.96453058 -26.56608359  18.05783122\n",
            "  25.66772581  16.32650395  11.88724704  20.27881312 -27.59092203\n",
            " -17.89307336 -22.50457924   0.27185941  14.7112877    7.80071067\n",
            "  21.06786599 -20.68722045  14.07726552 -18.41751055 -13.75447492\n",
            "  12.59428184  28.81228709   6.69261636 -26.7299811    6.9785382 ]\n",
            "shape of sample before is: (50, 28, 28)\n",
            "len(sample.shape) 3\n",
            "angle is: [0.04235055 0.88414571 0.70957829 0.17312785 0.09172101 0.18353323\n",
            " 0.98002718 0.45856064 0.78408095 0.63640834 0.57241315 0.14513025\n",
            " 0.94602445 0.30134263 0.57801722 0.69977594 0.64923316 0.94059441\n",
            " 0.14843899 0.50835274 0.40403439 0.47416873 0.11921753 0.13409461\n",
            " 0.27807555 0.3047046  0.42790321 0.61098755 0.63462912 0.4118109\n",
            " 0.40878311 0.21762853 0.58830625 0.31704091 0.03605983 0.41840004\n",
            " 0.47413268 0.22559287 0.57245793 0.5657719  0.70200218 0.64794848\n",
            " 0.65243306 0.31621415 0.78743222 0.54914438 0.4314182  0.62601248\n",
            " 0.36065733 0.51273924]\n",
            "angle with constraint is: [-27.45896691  23.04874268  12.57469711 -19.61232921 -24.49673965\n",
            " -18.98800627  28.80163077  -2.48636145  17.0448569    8.18450053\n",
            "   4.344789   -21.29218472  26.76146721 -11.91944205   4.68103295\n",
            "  11.98655668   8.95398931  26.43566458 -21.0936606    0.50116431\n",
            "  -5.75793656  -1.54987623 -22.84694843 -21.95432341 -13.31546725\n",
            " -11.71772377  -4.32580718   6.65925282   8.07774705  -5.2913462\n",
            "  -5.47301343 -16.9422884    5.2983749  -10.97754532 -27.83640994\n",
            "  -4.89599735  -1.55203949 -16.46442791   4.34747599   3.94631403\n",
            "  12.12013087   8.87690893   9.14598339 -11.02715089  17.24593332\n",
            "   2.94866302  -4.11490829   7.56074886  -8.36055993   0.76435468]\n",
            "Accuracy after rotation augmentation is  0.672\n"
          ]
        }
      ]
    },
    {
      "cell_type": "markdown",
      "source": [
        "The angle constraint is a hyperparameter which we have to tune using a validation set. (Here we are not doing that for time constraints). Let us try a grid search to find the best angle constraint."
      ],
      "metadata": {
        "id": "R6vwKYxNnjvS"
      }
    },
    {
      "cell_type": "code",
      "source": [
        "angleconstraints = [0,10,20,30,40,50,60,70,80,90] # the values we want to test\n",
        "accuracies = np.zeros(len(angleconstraints), dtype=np.float) # we will save the values here\n",
        "\n",
        "for ii in range(len(angleconstraints)):\n",
        "  # create the augmented dataset\n",
        "  augdata = train_X # we include the original images also in the augmented dataset\n",
        "  auglabel = train_y\n",
        "  for jj in range(naugmentations):\n",
        "    augdata = np.concatenate((augdata, augRotate(train_X, angleconstraints[ii]))) # concatenate the augmented data to the set\n",
        "    auglabel = np.concatenate((auglabel, train_y))  # the labels don't change when we augment\n",
        "\n",
        "  # check the test accuracy\n",
        "  testpred = NN(augdata, auglabel, test_X)\n",
        "  accuracies[ii] = Accuracy(test_y, testpred)\n",
        "  print('Accuracy after rotation augmentation constrained by ',angleconstraints[ii], ' is ', accuracies[ii], flush=True)"
      ],
      "metadata": {
        "colab": {
          "base_uri": "https://localhost:8080/"
        },
        "id": "2TuE7cTCnZ9g",
        "outputId": "2d7f106d-e051-4bd1-96aa-9af3313ec199"
      },
      "execution_count": null,
      "outputs": [
        {
          "output_type": "stream",
          "name": "stderr",
          "text": [
            "/usr/local/lib/python3.7/dist-packages/ipykernel_launcher.py:2: DeprecationWarning: `np.float` is a deprecated alias for the builtin `float`. To silence this warning, use `float` by itself. Doing this will not modify any behavior and is safe. If you specifically wanted the numpy scalar type, use `np.float64` here.\n",
            "Deprecated in NumPy 1.20; for more details and guidance: https://numpy.org/devdocs/release/1.20.0-notes.html#deprecations\n",
            "  \n"
          ]
        },
        {
          "output_type": "stream",
          "name": "stdout",
          "text": [
            "Accuracy after rotation augmentation constrained by  0  is  0.6472\n",
            "shape of sample before is: (50, 28, 28)\n",
            "len(sample.shape) 3\n",
            "angle is: [0.73670569 0.88640289 0.9210572  0.50363293 0.52027511 0.79987041\n",
            " 0.31445069 0.83738236 0.49414165 0.11585672 0.07205915 0.84199321\n",
            " 0.05556792 0.28061144 0.33413004 0.17299445 0.31389337 0.74269257\n",
            " 0.01468284 0.82717342 0.85654802 0.37226157 0.1536129  0.60084041\n",
            " 0.11967256 0.36491936 0.95842918 0.99546447 0.77210489 0.31096151\n",
            " 0.68766505 0.70540637 0.3878417  0.64088863 0.01072764 0.20905766\n",
            " 0.5250883  0.1637513  0.16590687 0.83630429 0.989133   0.55596943\n",
            " 0.83906973 0.99032166 0.14159589 0.44824561 0.39257272 0.08004928\n",
            " 0.75533017 0.43377903]\n",
            "angle with constraint is: [ 2.36705688  3.86402887  4.21057197  0.03632925  0.20275115  2.99870411\n",
            " -1.85549308  3.37382362 -0.05858353 -3.84143276 -4.27940853  3.41993211\n",
            " -4.44432083 -2.19388564 -1.65869959 -3.27005555 -1.8610663   2.42692567\n",
            " -4.85317156  3.27173425  3.56548024 -1.27738427 -3.46387101  1.00840408\n",
            " -3.80327444 -1.35080639  4.58429181  4.95464473  2.72104891 -1.8903849\n",
            "  1.87665049  2.05406365 -1.12158305  1.40888635 -4.89272355 -2.90942341\n",
            "  0.25088303 -3.36248696 -3.34093132  3.36304291  4.89133003  0.55969428\n",
            "  3.39069731  4.90321664 -3.58404111 -0.51754387 -1.07427284 -4.19950716\n",
            "  2.55330173 -0.66220973]\n",
            "shape of sample before is: (50, 28, 28)\n",
            "len(sample.shape) 3\n",
            "angle is: [0.46932693 0.15067297 0.18092665 0.90710362 0.04464909 0.23285228\n",
            " 0.29205933 0.49019754 0.58644517 0.49328998 0.08411533 0.24366745\n",
            " 0.84358838 0.6375887  0.64914905 0.67020326 0.76290302 0.05810848\n",
            " 0.36660838 0.53952744 0.33845648 0.84447887 0.48257251 0.76862759\n",
            " 0.85201552 0.50479148 0.90955224 0.58712394 0.8502743  0.3405908\n",
            " 0.49881696 0.53141104 0.10497972 0.39855251 0.91733767 0.63083224\n",
            " 0.17750658 0.33885564 0.19160301 0.02482313 0.92746046 0.44820733\n",
            " 0.30753507 0.59847719 0.00731446 0.27802211 0.70303347 0.63376977\n",
            " 0.98180595 0.62035771]\n",
            "angle with constraint is: [-0.30673066 -3.49327026 -3.19073348  4.07103622 -4.55350911 -2.67147715\n",
            " -2.0794067  -0.09802458  0.86445173 -0.06710024 -4.15884665 -2.56332546\n",
            "  3.43588385  1.375887    1.4914905   1.70203255  2.62903019 -4.41891518\n",
            " -1.33391615  0.39527435 -1.61543517  3.44478873 -0.17427491  2.68627589\n",
            "  3.52015517  0.04791483  4.09552244  0.87123941  3.50274299 -1.59409204\n",
            " -0.01183041  0.31411041 -3.95020284 -1.01447493  4.17337673  1.3083224\n",
            " -3.22493418 -1.61144364 -3.0839699  -4.75176868  4.27460459 -0.51792672\n",
            " -1.92464928  0.98477192 -4.92685544 -2.21977893  2.03033466  1.33769773\n",
            "  4.81805948  1.2035771 ]\n",
            "shape of sample before is: (50, 28, 28)\n",
            "len(sample.shape) 3\n",
            "angle is: [0.47750587 0.76143256 0.90332787 0.72069595 0.96321122 0.78200517\n",
            " 0.86680144 0.11410407 0.7324135  0.4400887  0.5531038  0.65410241\n",
            " 0.96981512 0.98457808 0.28822825 0.7337535  0.74998354 0.34649286\n",
            " 0.12386977 0.04094696 0.77734313 0.48969974 0.98554017 0.46497346\n",
            " 0.97791698 0.411576   0.79368215 0.08481927 0.55546171 0.80205979\n",
            " 0.92470167 0.82258309 0.03697073 0.37270234 0.04869847 0.10928229\n",
            " 0.67530563 0.7132582  0.77372068 0.86545655 0.73943147 0.80087159\n",
            " 0.04896371 0.23453515 0.62189777 0.8581253  0.00450012 0.51462934\n",
            " 0.6772874  0.02960729]\n",
            "angle with constraint is: [-0.22494126  2.61432563  4.03327872  2.20695947  4.63211224  2.82005171\n",
            "  3.66801438 -3.85895929  2.32413503 -0.599113    0.53103802  1.54102409\n",
            "  4.69815117  4.84578081 -2.11771755  2.33753497  2.49983538 -1.53507139\n",
            " -3.76130225 -4.5905304   2.77343128 -0.10300258  4.85540169 -0.35026544\n",
            "  4.77916979 -0.88423998  2.93682151 -4.15180728  0.5546171   3.02059787\n",
            "  4.24701667  3.22583091 -4.63029273 -1.27297659 -4.51301528 -3.90717709\n",
            "  1.75305629  2.13258196  2.73720683  3.65456548  2.39431468  3.00871592\n",
            " -4.5103629  -2.6546485   1.21897773  3.58125305 -4.95499875  0.14629342\n",
            "  1.77287399 -4.70392711]\n",
            "shape of sample before is: (50, 28, 28)\n",
            "len(sample.shape) 3\n",
            "angle is: [0.40135556 0.89563488 0.67161281 0.23765836 0.85278113 0.34803142\n",
            " 0.85334467 0.29894365 0.59032025 0.39694007 0.27482505 0.88655756\n",
            " 0.18759368 0.08481159 0.34192694 0.71763915 0.80743161 0.99874337\n",
            " 0.29636206 0.40794195 0.13682128 0.57487193 0.99758004 0.70088101\n",
            " 0.59521284 0.39236909 0.91529876 0.4969166  0.13436691 0.36537846\n",
            " 0.06716667 0.20197904 0.01766878 0.45327992 0.63454026 0.34329246\n",
            " 0.42038177 0.95920927 0.75196312 0.54085664 0.28454088 0.8969968\n",
            " 0.23509712 0.32534273 0.90906481 0.52954206 0.74231795 0.59074479\n",
            " 0.65343921 0.29938329]\n",
            "angle with constraint is: [-0.98644442  3.95634881  1.71612809 -2.62341637  3.5278113  -1.51968577\n",
            "  3.53344671 -2.01056349  0.90320251 -1.03059932 -2.25174949  3.86557562\n",
            " -3.12406318 -4.15188409 -1.58073061  2.17639148  3.07431606  4.9874337\n",
            " -2.03637943 -0.92058049 -3.63178722  0.7487193   4.97580037  2.0088101\n",
            "  0.9521284  -1.07630907  4.1529876  -0.03083404 -3.65633087 -1.34621537\n",
            " -4.32833331 -2.98020962 -4.82331219 -0.46720083  1.34540265 -1.56707538\n",
            " -0.79618228  4.59209273  2.51963122  0.40856637 -2.15459125  3.96996799\n",
            " -2.64902883 -1.74657269  4.09064814  0.29542055  2.42317949  0.90744794\n",
            "  1.53439209 -2.00616708]\n",
            "shape of sample before is: (50, 28, 28)\n",
            "len(sample.shape) 3\n",
            "angle is: [0.24137206 0.32249235 0.15544156 0.87431437 0.28324693 0.56148939\n",
            " 0.79197443 0.78382411 0.43838626 0.47625731 0.99470175 0.67459748\n",
            " 0.81463844 0.90255397 0.78758984 0.18517934 0.56217073 0.10189416\n",
            " 0.65292213 0.95534943 0.51273206 0.43297249 0.03584275 0.95977452\n",
            " 0.10300268 0.04107909 0.24606661 0.06553043 0.45511784 0.5160878\n",
            " 0.31256995 0.05096048 0.11160037 0.38450438 0.06052845 0.69818973\n",
            " 0.20702054 0.30207157 0.39412578 0.41660963 0.00166071 0.11207037\n",
            " 0.86276456 0.00123306 0.50816736 0.48950201 0.33309416 0.43132702\n",
            " 0.78058114 0.84120371]\n",
            "angle with constraint is: [-2.58627938 -1.77507653 -3.44558436  3.74314365 -2.16753067  0.61489394\n",
            "  2.91974425  2.83824109 -0.61613741 -0.23742691  4.94701749  1.74597477\n",
            "  3.14638443  4.02553969  2.87589836 -3.14820655  0.62170734 -3.98105843\n",
            "  1.52922127  4.55349428  0.12732064 -0.67027507 -4.64157249  4.59774522\n",
            " -3.96997316 -4.58920907 -2.53933388 -4.34469566 -0.44882158  0.16087801\n",
            " -1.87430051 -4.49039517 -3.88399632 -1.15495622 -4.39471549  1.98189726\n",
            " -2.92979458 -1.97928431 -1.05874223 -0.83390367 -4.98339292 -3.87929629\n",
            "  3.62764564 -4.98766937  0.08167356 -0.10497993 -1.66905839 -0.6867298\n",
            "  2.80581138  3.41203706]\n",
            "Accuracy after rotation augmentation constrained by  10  is  0.6643\n",
            "shape of sample before is: (50, 28, 28)\n",
            "len(sample.shape) 3\n",
            "angle is: [0.26034854 0.32249044 0.24248285 0.4798634  0.68325836 0.22825288\n",
            " 0.33073574 0.93038462 0.04856929 0.46076961 0.71155804 0.15045401\n",
            " 0.04737402 0.13820537 0.91882319 0.00925978 0.18832197 0.03128351\n",
            " 0.11062947 0.62014929 0.24163891 0.56921205 0.59019538 0.84943533\n",
            " 0.00474139 0.85336946 0.61911909 0.16274349 0.77293739 0.85549154\n",
            " 0.25426348 0.91879368 0.45445743 0.60342445 0.98464953 0.36153608\n",
            " 0.81315935 0.31839912 0.79921352 0.60073392 0.2163557  0.41402609\n",
            " 0.31763563 0.07810839 0.02983477 0.34647866 0.01903415 0.16548776\n",
            " 0.72518332 0.70809124]\n",
            "angle with constraint is: [-4.79302913 -3.55019118 -5.15034294 -0.40273199  3.66516715 -5.43494249\n",
            " -3.38528516  8.60769235 -9.0286142  -0.7846079   4.23116083 -6.99091977\n",
            " -9.0525196  -7.23589257  8.37646387 -9.81480436 -6.2335605  -9.37432974\n",
            " -7.78741065  2.40298573 -5.16722183  1.38424101  1.80390766  6.98870666\n",
            " -9.90517214  7.06738919  2.38238173 -6.74513028  5.45874776  7.10983084\n",
            " -4.91473032  8.37587362 -0.91085139  2.06848909  9.69299067 -2.76927843\n",
            "  6.26318692 -3.63201764  5.98427044  2.01467838 -5.6728861  -1.71947812\n",
            " -3.64728731 -8.43783214 -9.4033046  -3.07042689 -9.61931704 -6.69024485\n",
            "  4.50366642  4.16182471]\n",
            "shape of sample before is: (50, 28, 28)\n",
            "len(sample.shape) 3\n",
            "angle is: [0.73858039 0.31715317 0.89001946 0.59383055 0.12602634 0.14371866\n",
            " 0.69309543 0.17294394 0.5072927  0.99177448 0.0040076  0.0165798\n",
            " 0.99308458 0.58463883 0.12690998 0.8973022  0.8803803  0.53620041\n",
            " 0.62179203 0.27318719 0.0505197  0.59456761 0.29475519 0.66362105\n",
            " 0.83624518 0.01816054 0.59571377 0.23128054 0.8738885  0.25366451\n",
            " 0.61077013 0.55354084 0.3961665  0.67762076 0.72576963 0.5669378\n",
            " 0.75842224 0.98341708 0.41927239 0.51458305 0.01246988 0.79602856\n",
            " 0.52023007 0.40796143 0.09407196 0.88965642 0.39500724 0.6825816\n",
            " 0.14937416 0.96154963]\n",
            "angle with constraint is: [ 4.77160773 -3.65693658  7.80038914  1.87661096 -7.47947317 -7.12562677\n",
            "  3.86190854 -6.54112127  0.14585403  9.83548952 -9.91984791 -9.66840396\n",
            "  9.86169164  1.69277668 -7.46180049  7.946044    7.607606    0.72400826\n",
            "  2.4358406  -4.53625617 -8.98960607  1.89135218 -4.10489614  3.27242093\n",
            "  6.72490354 -9.63678912  1.91427549 -5.37438921  7.47776996 -4.92670987\n",
            "  2.21540266  1.0708168  -2.07667     3.55241527  4.51539269  1.33875591\n",
            "  5.16844474  9.66834152 -1.61455224  0.29166104 -9.75060244  5.92057113\n",
            "  0.40460134 -1.84077139 -8.11856074  7.79312843 -2.0998552   3.65163196\n",
            " -7.01251687  9.23099259]\n",
            "shape of sample before is: (50, 28, 28)\n",
            "len(sample.shape) 3\n",
            "angle is: [0.17844176 0.19954199 0.85898286 0.91258274 0.21214741 0.46980089\n",
            " 0.7334949  0.87836573 0.3790527  0.51701949 0.74171641 0.73113598\n",
            " 0.78296013 0.56993382 0.1046151  0.90397329 0.86557254 0.79809744\n",
            " 0.09986248 0.20439737 0.74360037 0.02314009 0.97922463 0.37714468\n",
            " 0.71931253 0.88757109 0.39462989 0.31913249 0.60874113 0.58098937\n",
            " 0.40913998 0.60177476 0.93538137 0.46764026 0.19674218 0.37720598\n",
            " 0.39410698 0.13110869 0.1628715  0.68456207 0.33947775 0.95489839\n",
            " 0.24359675 0.09892451 0.75350456 0.88103605 0.27811336 0.2020881\n",
            " 0.18576613 0.5220123 ]\n",
            "angle with constraint is: [-6.43116476 -6.00916014  7.17965721  8.25165488 -5.75705185 -0.60398224\n",
            "  4.66989809  7.56731468 -2.4189461   0.34038974  4.83432821  4.62271953\n",
            "  5.6592026   1.39867637 -7.90769806  8.07946582  7.31145079  5.96194872\n",
            " -8.00275046 -5.91205266  4.8720073  -9.53719811  9.58449267 -2.45710639\n",
            "  4.38625067  7.75142177 -2.10740224 -3.61735023  2.17482258  1.61978747\n",
            " -1.81720045  2.03549512  8.70762739 -0.64719487 -6.06515638 -2.45588034\n",
            " -2.11786035 -7.37782614 -6.74256999  3.69124147 -3.21044492  9.09796784\n",
            " -5.12806509 -8.0215099   5.07009126  7.62072104 -4.43773286 -5.95823797\n",
            " -6.2846773   0.44024603]\n",
            "shape of sample before is: (50, 28, 28)\n",
            "len(sample.shape) 3\n",
            "angle is: [0.46841664 0.25943984 0.04517312 0.48149134 0.95933235 0.6525192\n",
            " 0.49550656 0.11069207 0.25243629 0.29477395 0.76480355 0.8767108\n",
            " 0.90164185 0.98456861 0.98236668 0.95299913 0.07182214 0.13779354\n",
            " 0.30446653 0.55289825 0.09697789 0.84579696 0.61675618 0.5423644\n",
            " 0.16531132 0.25325547 0.16031202 0.85193316 0.58422786 0.73512943\n",
            " 0.29603286 0.37125264 0.40485496 0.76001497 0.77235299 0.20681353\n",
            " 0.94153886 0.12065534 0.89612208 0.10039565 0.26453981 0.84647854\n",
            " 0.17949207 0.41356793 0.4498593  0.24525897 0.7102452  0.85133465\n",
            " 0.87457514 0.33932215]\n",
            "angle with constraint is: [-0.63166718 -4.8112032  -9.09653766 -0.37017319  9.18664695  3.05038402\n",
            " -0.08986887 -7.78615852 -4.95127419 -4.10452101  5.29607105  7.53421595\n",
            "  8.03283707  9.69137217  9.64733366  9.05998266 -8.56355719 -7.24412928\n",
            " -3.91066947  1.05796508 -8.06044223  6.91593916  2.33512358  0.84728805\n",
            " -6.69377353 -4.93489051 -6.7937595   7.03866316  1.6845572   4.70258855\n",
            " -4.07934274 -2.57494726 -1.90290071  5.20029943  5.44705975 -5.86372945\n",
            "  8.83077713 -7.58689325  7.92244165 -7.99208709 -4.70920378  6.92957072\n",
            " -6.41015855 -1.72864137 -1.002814   -5.09482054  4.20490403  7.02669299\n",
            "  7.4915028  -3.21355709]\n",
            "shape of sample before is: (50, 28, 28)\n",
            "len(sample.shape) 3\n",
            "angle is: [0.53085039 0.2484064  0.2447965  0.16125406 0.94001901 0.88798883\n",
            " 0.77735871 0.51766152 0.49060792 0.52974567 0.53656801 0.43456308\n",
            " 0.13175483 0.12566385 0.95224972 0.48203076 0.95320552 0.16357688\n",
            " 0.55441655 0.20771725 0.25318461 0.03005458 0.11895331 0.91684841\n",
            " 0.32153299 0.60812921 0.46501413 0.40045125 0.53188609 0.18723894\n",
            " 0.9886039  0.81830787 0.74161463 0.4687593  0.15287712 0.92066586\n",
            " 0.34138707 0.05010669 0.34240368 0.79445703 0.62270874 0.75083858\n",
            " 0.79363538 0.21195461 0.92378332 0.4379896  0.63901365 0.00230877\n",
            " 0.9933685  0.28089639]\n",
            "angle with constraint is: [ 0.61700789 -5.03187192 -5.10406997 -6.77491874  8.80038022  7.75977657\n",
            "  5.54717427  0.35323043 -0.18784169  0.59491332  0.73136027 -1.30873831\n",
            " -7.36490334 -7.48672294  9.04499432 -0.35938481  9.0641105  -6.72846245\n",
            "  1.08833104 -5.84565493 -4.93630788 -9.39890842 -7.62093379  8.33696815\n",
            " -3.56934017  2.16258424 -0.69971736 -1.9909751   0.63772183 -6.25522111\n",
            "  9.77207797  6.36615737  4.83229265 -0.62481406 -6.94245756  8.41331717\n",
            " -3.17225865 -8.99786621 -3.15192646  5.88914061  2.4541749   5.01677169\n",
            "  5.87270768 -5.76090778  8.47566632 -1.24020794  2.78027299 -9.95382455\n",
            "  9.86736997 -4.38207228]\n",
            "Accuracy after rotation augmentation constrained by  20  is  0.6826\n",
            "shape of sample before is: (50, 28, 28)\n",
            "len(sample.shape) 3\n",
            "angle is: [0.06206311 0.45826204 0.12903006 0.15232671 0.63228281 0.39292739\n",
            " 0.92185245 0.31915649 0.72618013 0.46109943 0.6599513  0.59969536\n",
            " 0.47278397 0.95006109 0.34271364 0.1772355  0.67809406 0.84600756\n",
            " 0.04025374 0.44963269 0.89248769 0.74961862 0.99180772 0.53141381\n",
            " 0.65999572 0.30248028 0.9475356  0.36633549 0.73851071 0.4031402\n",
            " 0.56181893 0.71978254 0.50893415 0.90708633 0.41930099 0.6470718\n",
            " 0.34236243 0.40815667 0.44005011 0.12580702 0.09172368 0.66748992\n",
            " 0.65551774 0.66290971 0.01976645 0.32654684 0.19780985 0.77815142\n",
            " 0.8606304  0.24668038]\n",
            "angle with constraint is: [-13.1381068   -1.25213875 -11.12909828 -10.4301987    3.96848439\n",
            "  -3.21217825  12.6555735   -5.42530516   6.78540385  -1.1670171\n",
            "   4.79853903   2.9908607   -0.81648082  13.50183284  -4.71859072\n",
            "  -9.68293496   5.34282183  10.38022684 -13.7923878   -1.51101935\n",
            "  11.77463069   7.48855857  14.75423149   0.94241435   4.79987156\n",
            "  -5.92559157  13.42606799  -4.00993534   7.15532138  -2.90579388\n",
            "   1.8545679    6.59347605   0.26802455  12.21258981  -2.42097036\n",
            "   4.41215394  -4.729127    -2.75529995  -1.79849675 -11.22578945\n",
            " -12.24828963   5.02469769   4.66553215   4.88729143 -14.40700664\n",
            "  -5.20359472  -9.06570458   8.34454268  10.81891204  -7.59958868]\n",
            "shape of sample before is: (50, 28, 28)\n",
            "len(sample.shape) 3\n",
            "angle is: [0.66784916 0.1293628  0.27515253 0.1386545  0.28352077 0.67473655\n",
            " 0.91032691 0.20252241 0.54207903 0.7013911  0.95292247 0.61006048\n",
            " 0.25510693 0.62547816 0.32049116 0.97612839 0.39967614 0.68542772\n",
            " 0.02322758 0.40006145 0.87510761 0.61022744 0.44394289 0.9359375\n",
            " 0.85398438 0.32221567 0.5445484  0.48982426 0.6322025  0.33411127\n",
            " 0.244205   0.91267184 0.9238745  0.84332289 0.97820443 0.74499153\n",
            " 0.76466723 0.76259009 0.48060763 0.45645219 0.24022628 0.64481919\n",
            " 0.28932014 0.25780841 0.58596137 0.40998239 0.21885661 0.81605602\n",
            " 0.86056992 0.16769952]\n",
            "angle with constraint is: [  5.03547477 -11.1191159   -6.74542423 -10.84036511  -6.494377\n",
            "   5.24209642  12.30980731  -8.92432776   1.26237105   6.04173304\n",
            "  13.58767405   3.30181449  -7.34679207   3.76434471  -5.38526515\n",
            "  14.28385172  -3.00971595   5.56283162 -14.30317253  -2.99815662\n",
            "  11.2532284    3.30682333  -1.68171341  13.07812498  10.61953128\n",
            "  -5.33352979   1.33645206  -0.30527232   3.966075    -4.97666199\n",
            "  -7.67384998  12.38015506  12.71623498  10.29968657  14.34613292\n",
            "   7.34974577   7.94001686   7.87770276  -0.58177107  -1.30643416\n",
            "  -7.79321172   4.34457583  -6.32039592  -7.26574771   2.57884122\n",
            "  -2.70052835  -8.43430174   9.4816805   10.81709758  -9.96901441]\n",
            "shape of sample before is: (50, 28, 28)\n",
            "len(sample.shape) 3\n",
            "angle is: [0.00750703 0.33612997 0.79751084 0.83917387 0.13832907 0.7743359\n",
            " 0.11570417 0.39006259 0.99860952 0.19259082 0.15396358 0.42280033\n",
            " 0.61966853 0.93290078 0.98082115 0.06964064 0.13799752 0.79073797\n",
            " 0.27063215 0.88484906 0.66345326 0.1118448  0.83252928 0.17635638\n",
            " 0.42349539 0.55218493 0.50076615 0.68616292 0.65268673 0.99204201\n",
            " 0.99942191 0.5164594  0.09519909 0.7278433  0.97666408 0.31832639\n",
            " 0.46120889 0.42477692 0.05141915 0.67226443 0.3533377  0.78746387\n",
            " 0.83212008 0.82123079 0.416666   0.32154568 0.74882078 0.80138943\n",
            " 0.49125745 0.89303102]\n",
            "angle with constraint is: [-14.77478902  -4.91610094   8.92532507  10.17521599 -10.8501279\n",
            "   8.23007704 -11.52887498  -3.2981223   14.95828545  -9.2222753\n",
            " -10.38109252  -2.31599002   3.59005578  12.98702347  14.42463437\n",
            " -12.9107809  -10.86007448   8.72213922  -6.88103543  11.54547179\n",
            "   4.90359772 -11.64465593   9.97587855  -9.7093086   -2.29513816\n",
            "   1.56554786   0.02298447   5.58488747   4.58060205  14.76126017\n",
            "  14.98265728   0.49378208 -12.14402739   6.83529897  14.29992235\n",
            "  -5.45020837  -1.16373342  -2.25669226 -13.45742536   5.16793294\n",
            "  -4.39986915   8.62391624   9.96360226   9.6369236   -2.50002006\n",
            "  -5.35362953   7.46462339   9.04168302  -0.26227661  11.79093059]\n",
            "shape of sample before is: (50, 28, 28)\n",
            "len(sample.shape) 3\n",
            "angle is: [1.43908696e-01 8.79068780e-01 9.60952330e-02 1.53525522e-01\n",
            " 5.33840013e-01 6.75184802e-02 5.28071014e-02 5.18744166e-04\n",
            " 4.36316660e-01 7.74623881e-01 3.48383503e-02 6.52257606e-01\n",
            " 8.23127317e-01 1.68000849e-01 1.46863735e-01 8.60800974e-01\n",
            " 8.23124610e-01 5.38941766e-01 8.19199879e-01 9.27560774e-02\n",
            " 3.94481518e-01 7.37797556e-01 2.57451959e-01 7.52328914e-01\n",
            " 5.04178604e-01 7.50265988e-01 4.64679638e-01 3.67904340e-01\n",
            " 2.19189216e-01 2.08379341e-01 7.51490811e-01 1.18910348e-01\n",
            " 8.59823501e-02 1.76291365e-01 1.75346511e-01 8.23107623e-01\n",
            " 3.98506623e-01 9.90388457e-01 1.37211258e-01 6.53539826e-01\n",
            " 4.48729507e-01 3.92918177e-01 8.75084199e-01 9.75595646e-01\n",
            " 8.72858959e-01 1.92300679e-01 2.20797921e-01 6.56073879e-01\n",
            " 2.89083582e-01 7.34725131e-01]\n",
            "angle with constraint is: [-10.68273912  11.37206339 -12.11714301 -10.39423434   1.0152004\n",
            " -12.97444559 -13.41578696 -14.98443768  -1.91050021   8.23871644\n",
            " -13.95484949   4.56772819   9.69381952  -9.95997454 -10.59408796\n",
            "  10.82402921   9.6937383    1.16825299   9.57599638 -12.21731768\n",
            "  -3.16555446   7.13392668  -7.27644122   7.56986743   0.12535813\n",
            "   7.50797964  -1.05961086  -3.96286979  -8.42432351  -8.74861976\n",
            "   7.54472432 -11.43268956 -12.4205295   -9.71125905  -9.73960466\n",
            "   9.69322868  -3.0448013   14.71165372 -10.88366227   4.60619477\n",
            "  -1.53811478  -3.2124547   11.25252597  14.26786937  11.18576876\n",
            "  -9.23097963  -8.37606236   4.68221637  -6.32749255   7.04175392]\n",
            "shape of sample before is: (50, 28, 28)\n",
            "len(sample.shape) 3\n",
            "angle is: [0.56642065 0.55090877 0.82854692 0.71053277 0.02657776 0.04945914\n",
            " 0.60155845 0.48619208 0.26018466 0.41865609 0.75791032 0.82661148\n",
            " 0.56122307 0.38536948 0.27069676 0.52191847 0.31474962 0.56409514\n",
            " 0.67665238 0.06607921 0.00106747 0.21227714 0.8945115  0.64629076\n",
            " 0.17196035 0.89026396 0.46995594 0.47609176 0.93554194 0.05948669\n",
            " 0.21517827 0.58577133 0.19548651 0.67952701 0.21409229 0.09915697\n",
            " 0.20698516 0.42273403 0.1761383  0.13469202 0.86028189 0.3203972\n",
            " 0.36075869 0.05527041 0.35736962 0.26480718 0.61048507 0.2053903\n",
            " 0.88836545 0.92966662]\n",
            "angle with constraint is: [  1.99261952   1.52726305   9.85640775   6.31598315 -14.20266705\n",
            " -13.51622589   3.04675357  -0.41423773  -7.19446034  -2.44031738\n",
            "   7.73730956   9.79834454   1.83669204  -3.43891557  -6.87909716\n",
            "   0.65755412  -5.55751144   1.92285411   5.29957148 -13.01762367\n",
            " -14.96797605  -8.63168583  11.83534493   4.3887229   -9.84118944\n",
            "  11.70791885  -0.90132179  -0.7172473   13.06625832 -13.21539923\n",
            "  -8.54465176   2.57313975  -9.13540471   5.38581028  -8.57723132\n",
            " -12.02529088  -8.79044521  -2.31797897  -9.71585102 -10.95923925\n",
            "  10.80845659  -5.38808389  -4.1772394  -13.34188771  -4.27891129\n",
            "  -7.05578468   3.31455202  -8.83829107  11.65096359  12.88999863]\n",
            "Accuracy after rotation augmentation constrained by  30  is  0.6824\n",
            "shape of sample before is: (50, 28, 28)\n",
            "len(sample.shape) 3\n",
            "angle is: [0.09983106 0.10740296 0.11532644 0.61956926 0.12196896 0.85238232\n",
            " 0.75427151 0.81980886 0.52606053 0.99667721 0.0441751  0.40126496\n",
            " 0.32393667 0.9486455  0.57686096 0.80619097 0.17034119 0.97863414\n",
            " 0.49863955 0.49367208 0.97088473 0.38073236 0.39752502 0.5847527\n",
            " 0.12805261 0.32108563 0.19320832 0.10328348 0.86614461 0.58933117\n",
            " 0.35867279 0.40866938 0.431519   0.63314918 0.92676939 0.93277962\n",
            " 0.39149198 0.32926246 0.4510465  0.56793423 0.46181791 0.65875341\n",
            " 0.55439902 0.32071555 0.34573081 0.37859279 0.09463977 0.16606263\n",
            " 0.7231138  0.38909671]\n",
            "angle with constraint is: [-16.00675771 -15.70388175 -15.38694248   4.78277025 -15.12124143\n",
            "  14.09529272  10.1708606   12.79235433   1.04242108  19.86708846\n",
            " -18.23299588  -3.94940143  -7.04253324  17.94581995   3.07443834\n",
            "  12.24763862 -13.18635225  19.14536576  -0.05441812  -0.25311695\n",
            "  18.83538914  -4.77070555  -4.09899902   3.39010811 -14.87789558\n",
            "  -7.15657494 -12.2716671  -15.86866084  14.64578425   3.57324665\n",
            "  -5.65308834  -3.65322491  -2.73923985   5.32596729  17.07077566\n",
            "  17.31118479  -4.34032082  -6.82950162  -1.95813999   2.71736922\n",
            "  -1.52728354   6.35013639   2.17596094  -7.17137813  -6.17076777\n",
            "  -4.8562885  -16.21440927 -13.3574947    8.92455209  -4.43613154]\n",
            "shape of sample before is: (50, 28, 28)\n",
            "len(sample.shape) 3\n",
            "angle is: [0.21453897 0.56267241 0.75553954 0.25742236 0.82678988 0.92750486\n",
            " 0.59739453 0.66894766 0.05257599 0.94551989 0.39248473 0.9239004\n",
            " 0.57897752 0.0046188  0.038542   0.68041881 0.56266801 0.02653244\n",
            " 0.74345996 0.85214534 0.49641748 0.46575744 0.00547311 0.78664971\n",
            " 0.33071607 0.87876362 0.37306059 0.56507791 0.27034179 0.16058831\n",
            " 0.7749079  0.49659048 0.53648792 0.96541595 0.96357991 0.85564212\n",
            " 0.18760929 0.59427269 0.87814742 0.37446394 0.10110617 0.8109629\n",
            " 0.48176355 0.56439268 0.9821443  0.60721143 0.42497939 0.36998437\n",
            " 0.41761929 0.11839908]\n",
            "angle with constraint is: [-11.4184411    2.50689642  10.2215817   -9.70310551  13.07159528\n",
            "  17.10019439   3.89578116   6.75790636 -17.89696039  17.82079564\n",
            "  -4.30061063  16.95601602   3.15910099 -19.81524805 -18.45832003\n",
            "   7.21675223   2.50672055 -18.93870251   9.73839845  14.08581348\n",
            "  -0.1433007   -1.36970239 -19.78107565  11.4659885   -6.77135733\n",
            "  15.15054479  -5.0775765    2.60311643  -9.18632847 -13.5764675\n",
            "  10.99631614  -0.13638085   1.45951695  18.61663814  18.54319649\n",
            "  14.22568487 -12.49562829   3.77090777  15.12589699  -5.02144254\n",
            " -15.95575336  12.43851609  -0.72945795   2.57570721  19.28577185\n",
            "   4.28845722  -3.00082457  -5.20062529  -3.29522829 -15.26403667]\n",
            "shape of sample before is: (50, 28, 28)\n",
            "len(sample.shape) 3\n",
            "angle is: [0.79475056 0.83771686 0.28439713 0.30379662 0.87433426 0.02397036\n",
            " 0.52045744 0.46367571 0.69012677 0.1633917  0.66833074 0.37673401\n",
            " 0.61871478 0.04009501 0.4617272  0.52225089 0.2143264  0.13962365\n",
            " 0.1884743  0.34414108 0.09681015 0.9473198  0.40499406 0.8089696\n",
            " 0.97441712 0.08073528 0.65166947 0.87140909 0.63423443 0.42902612\n",
            " 0.43107636 0.03589889 0.53460075 0.993543   0.95870753 0.04039923\n",
            " 0.705797   0.30176487 0.90298915 0.04511475 0.9358741  0.83747574\n",
            " 0.11750438 0.05982434 0.83470766 0.15575767 0.53489815 0.91574486\n",
            " 0.56744811 0.3972333 ]\n",
            "angle with constraint is: [ 11.79002234  13.50867433  -8.62411462  -7.84813526  14.97337025\n",
            " -19.04118578   0.81829775  -1.45297141   7.60507078 -13.46433199\n",
            "   6.73322963  -4.93063969   4.74859113 -18.39619961  -1.53091211\n",
            "   0.89003576 -11.42694389 -14.41505383 -12.46102788  -6.23435688\n",
            " -16.12759403  17.89279183  -3.80023754  12.3587841   18.97668492\n",
            " -16.7705888    6.06677872  14.85636347   5.36937736  -2.83895515\n",
            "  -2.75694569 -18.56404456   1.38403005  19.74171987  18.34830104\n",
            " -18.38403085   8.23188015  -7.92940533  16.11956614 -18.19541017\n",
            "  17.43496408  13.49902975 -15.29982471 -17.60702651  13.38830657\n",
            " -13.76969316   1.39592612  16.62979432   2.69792454  -4.11066794]\n",
            "shape of sample before is: (50, 28, 28)\n",
            "len(sample.shape) 3\n",
            "angle is: [0.44501605 0.06311717 0.96875232 0.31065419 0.18936349 0.2860473\n",
            " 0.96437319 0.09428605 0.86730304 0.70784389 0.83001918 0.97589754\n",
            " 0.84215466 0.94338235 0.12693526 0.79578857 0.54567569 0.5434956\n",
            " 0.89892158 0.97180382 0.70483832 0.48293839 0.45640386 0.38634146\n",
            " 0.36159903 0.39150684 0.08975324 0.07743609 0.77986984 0.44607289\n",
            " 0.93068449 0.61222101 0.03517598 0.15752334 0.20581979 0.97573602\n",
            " 0.21870423 0.51575568 0.93617693 0.97719273 0.23636044 0.04911764\n",
            " 0.15360183 0.06332848 0.19512424 0.56856971 0.9124488  0.53721888\n",
            " 0.62598956 0.20186725]\n",
            "angle with constraint is: [ -2.19935781 -17.47531317  18.75009285  -7.5738326  -12.42546033\n",
            "  -8.55810793  18.5749278  -16.22855786  14.69212162   8.31375578\n",
            "  13.20076717  19.03590161  13.68618622  17.73529405 -14.92258973\n",
            "  11.83154261   1.82702776   1.7398238   15.95686305  18.87215275\n",
            "   8.19353292  -0.68246442  -1.74384568  -4.54634171  -5.53603882\n",
            "  -4.33972633 -16.40987059 -16.90255659  11.19479375  -2.15708428\n",
            "  17.22737954   4.48884034 -18.59296071 -13.69906635 -11.76720828\n",
            "  19.02944098 -11.25183095   0.63022705  17.44707727  19.0877092\n",
            " -10.54558258 -18.03529425 -13.8559267  -17.46686085 -12.19503036\n",
            "   2.74278859  16.49795185   1.48875535   5.03958227 -11.92530994]\n",
            "shape of sample before is: (50, 28, 28)\n",
            "len(sample.shape) 3\n",
            "angle is: [0.80058362 0.61778891 0.86413683 0.94884311 0.34790078 0.09057906\n",
            " 0.22592896 0.43784157 0.94569365 0.37830982 0.77077321 0.54047669\n",
            " 0.18280877 0.32073412 0.65319189 0.67285339 0.43475975 0.2286456\n",
            " 0.72190678 0.16887304 0.93666969 0.18790358 0.10731236 0.4976477\n",
            " 0.5195496  0.50819291 0.43666749 0.99481489 0.48628061 0.47794658\n",
            " 0.42176606 0.06682575 0.59295663 0.22796777 0.63760898 0.05083346\n",
            " 0.9813871  0.46900508 0.89675537 0.47556117 0.06033082 0.82221355\n",
            " 0.64818373 0.78175705 0.42816986 0.63793674 0.856229   0.63106544\n",
            " 0.34767363 0.66252959]\n",
            "angle with constraint is: [ 12.02334483   4.71155634  14.56547317  17.95372428  -6.08396897\n",
            " -16.37683766 -10.96284168  -2.48633737  17.82774607  -4.86760711\n",
            "  10.83092855   1.61906769 -12.68764918  -7.17063524   6.1276754\n",
            "   6.91413579  -2.60961013 -10.85417589   8.87627118 -13.24507834\n",
            "  17.46678767 -12.48385684 -15.70750549  -0.09409191   0.78198392\n",
            "   0.32771659  -2.53330043  19.79259571  -0.54877549  -0.88213677\n",
            "  -3.12935749 -17.32696981   3.71826525 -10.88128911   5.50435921\n",
            " -17.96666152  19.25548405  -1.23979684  15.87021486  -0.97755307\n",
            " -17.58676726  12.88854184   5.92734919  11.2702819   -2.87320546\n",
            "   5.51746977  14.24916015   5.24261771  -6.09305461   6.50118377]\n",
            "Accuracy after rotation augmentation constrained by  40  is  0.6821\n",
            "shape of sample before is: (50, 28, 28)\n",
            "len(sample.shape) 3\n",
            "angle is: [0.67185419 0.96058696 0.37091232 0.42508177 0.81212296 0.50576231\n",
            " 0.73657309 0.45970946 0.21549514 0.74520384 0.13115517 0.19858366\n",
            " 0.62682498 0.7472698  0.89468789 0.2725865  0.11072426 0.95604666\n",
            " 0.15442309 0.19766698 0.29132945 0.52939135 0.88282557 0.76054602\n",
            " 0.70815755 0.17518057 0.35768263 0.47840493 0.14742595 0.2734297\n",
            " 0.3083332  0.1272762  0.55023969 0.7050282  0.06993163 0.4811231\n",
            " 0.7822112  0.74799013 0.8150731  0.44824063 0.82055708 0.24075307\n",
            " 0.36081056 0.17635558 0.46748454 0.39206002 0.24092712 0.75178071\n",
            " 0.31384677 0.27280433]\n",
            "angle with constraint is: [  8.59270943  23.02934813  -6.45438392  -3.74591162  15.60614806\n",
            "   0.28811574  11.82865466  -2.01452678 -14.22524291  12.26019214\n",
            " -18.44224154 -15.07081682   6.34124914  12.36349001  19.73439434\n",
            " -11.37067513 -19.46378707  22.80233298 -17.2788456  -15.11665089\n",
            " -10.43352732   1.4695677   19.1412783   13.02730114  10.40787769\n",
            " -16.24097161  -7.11586842  -1.0797537  -17.62870233 -11.32851489\n",
            "  -9.5833398  -18.63619008   2.5119846   10.25140983 -21.50341843\n",
            "  -0.94384491  14.11055976  12.39950645  15.75365481  -2.58796834\n",
            "  16.02785413 -12.96234644  -6.95947193 -16.18222118  -1.62577303\n",
            "  -5.39699888 -12.95364418  12.58903546  -9.30766139 -11.35978349]\n",
            "shape of sample before is: (50, 28, 28)\n",
            "len(sample.shape) 3\n",
            "angle is: [0.13089033 0.4388217  0.30296463 0.36927284 0.23599726 0.76315549\n",
            " 0.93000335 0.49793185 0.64299842 0.86717228 0.99882964 0.61351648\n",
            " 0.88977947 0.90860825 0.79145149 0.46093139 0.081154   0.01580556\n",
            " 0.47720063 0.49431453 0.40736239 0.56816735 0.5521627  0.83661304\n",
            " 0.1086571  0.22517767 0.79300498 0.84783687 0.99482421 0.87291202\n",
            " 0.88989901 0.31434794 0.40166163 0.2680851  0.6062994  0.93880535\n",
            " 0.34464089 0.55700178 0.29629963 0.16979997 0.19518553 0.05794534\n",
            " 0.94929352 0.40287961 0.83412089 0.68132947 0.19192116 0.17546225\n",
            " 0.8119882  0.26471171]\n",
            "angle with constraint is: [-18.45548346  -3.05891491  -9.85176856  -6.53635793 -13.20013687\n",
            "  13.15777449  21.50016737  -0.10340736   7.14992117  18.35861383\n",
            "  24.94148187   5.67582424  19.48897333  20.43041233  14.57257439\n",
            "  -1.95343045 -20.94229998 -24.20972223  -1.13996834  -0.28427332\n",
            "  -4.63188061   3.40836756   2.60813517  16.83065205 -19.56714484\n",
            " -13.74111669  14.65024895  17.39184336  24.74121068  18.64560082\n",
            "  19.49495035  -9.28260287  -4.9169183  -11.59574476   5.31496991\n",
            "  21.94026771  -7.76795567   2.85008909 -10.18501848 -16.51000131\n",
            " -15.24072351 -22.10273277  22.46467615  -4.85601957  16.7060446\n",
            "   9.06647363 -15.40394193 -16.22688767  15.59941008 -11.76441447]\n",
            "shape of sample before is: (50, 28, 28)\n",
            "len(sample.shape) 3\n",
            "angle is: [0.91328518 0.1400554  0.67770861 0.81447388 0.23525639 0.27620736\n",
            " 0.96451889 0.26459761 0.42995705 0.43251559 0.25303475 0.77579109\n",
            " 0.77184934 0.37831801 0.83512579 0.21307493 0.00430578 0.57116736\n",
            " 0.99407777 0.03864431 0.20799807 0.51891464 0.80994074 0.08904201\n",
            " 0.39523465 0.7470758  0.37154321 0.18883642 0.19549583 0.41004879\n",
            " 0.47941707 0.86181442 0.64225242 0.69040195 0.98298717 0.41184344\n",
            " 0.4033544  0.92334697 0.24587559 0.72981525 0.75457314 0.097788\n",
            " 0.46823141 0.20056247 0.18537527 0.46382811 0.28942971 0.79606045\n",
            " 0.90760489 0.80272061]\n",
            "angle with constraint is: [ 20.66425919 -17.99722977   8.88543072  15.7236938  -13.23718058\n",
            " -11.18963183  23.22594431 -11.77011973  -3.5021475   -3.37422034\n",
            " -12.3482625   13.78955432  13.59246716  -6.08409929  16.75628955\n",
            " -14.34625328 -24.78471122   3.5583681   24.70388862 -23.06778451\n",
            " -14.60009631   0.94573212  15.49703682 -20.54789975  -5.23826731\n",
            "  12.35379003  -6.42283958 -15.55817898 -15.22520863  -4.49756065\n",
            "  -1.02914626  18.09072089   7.11262093   9.52009773  24.14935858\n",
            "  -4.40782798  -4.83227984  21.16734839 -12.70622065  11.49076232\n",
            "  12.72865691 -20.11060013  -1.58842972 -14.97187643 -15.73123636\n",
            "  -1.80859448 -10.52851462  14.80302238  20.38024457  15.13603026]\n",
            "shape of sample before is: (50, 28, 28)\n",
            "len(sample.shape) 3\n",
            "angle is: [0.26603087 0.27413439 0.25472835 0.1350381  0.94379837 0.4020478\n",
            " 0.22468947 0.84667105 0.3991953  0.03511681 0.16194157 0.63925034\n",
            " 0.78290527 0.21093439 0.91739559 0.85099712 0.84838075 0.22766115\n",
            " 0.05053599 0.86742354 0.30580023 0.61891638 0.75996688 0.12829326\n",
            " 0.78083835 0.93851146 0.72837497 0.44122275 0.87667814 0.52745763\n",
            " 0.74477093 0.82050594 0.74935286 0.28785488 0.1178439  0.23833853\n",
            " 0.50287494 0.50527692 0.58264435 0.39510184 0.78689138 0.91315375\n",
            " 0.24672505 0.73652322 0.67797185 0.5230905  0.18853023 0.79523226\n",
            " 0.96062629 0.72183633]\n",
            "angle with constraint is: [-11.69845637 -11.29328032 -12.26358249 -18.2480952   22.18991841\n",
            "  -4.89761009 -13.76552627  17.33355253  -5.04023487 -23.24415944\n",
            " -16.90292149   6.96251702  14.14526371 -14.45328058  20.86977946\n",
            "  17.549856    17.4190377  -13.61694266 -22.47320057  18.37117697\n",
            "  -9.70998856   5.94581906  12.99834419 -18.58533707  14.04191773\n",
            "  21.92557295  11.41874829  -2.93886258  18.83390694   1.3728815\n",
            "  12.23854639  16.02529719  12.46764308 -10.6072562  -19.10780495\n",
            " -13.08307353   0.14374685   0.26384611   4.13221747  -5.24490812\n",
            "  14.34456907  20.65768752 -12.66374733  11.82616089   8.89859263\n",
            "   1.15452496 -15.57348831  14.76161293  23.03131428  11.09181661]\n",
            "shape of sample before is: (50, 28, 28)\n",
            "len(sample.shape) 3\n",
            "angle is: [0.91786    0.98418526 0.35205067 0.63822355 0.47393274 0.98662875\n",
            " 0.09380782 0.41237491 0.87553904 0.28405131 0.78779285 0.38278316\n",
            " 0.97997854 0.88352984 0.30132036 0.77019311 0.33685654 0.60636284\n",
            " 0.65848077 0.82959541 0.02445084 0.22015789 0.71191781 0.56352324\n",
            " 0.49560508 0.05520996 0.34827588 0.86510023 0.03089284 0.39643624\n",
            " 0.94514829 0.05088073 0.74970575 0.25761262 0.86660883 0.74606798\n",
            " 0.88570517 0.21592479 0.53129275 0.77926994 0.24569974 0.23074631\n",
            " 0.02718213 0.95851529 0.71001688 0.63556035 0.74399472 0.53161292\n",
            " 0.47613382 0.44953224]\n",
            "angle with constraint is: [ 20.89299983  24.20926325  -7.39746629   6.91117765  -1.30336312\n",
            "  24.33143734 -20.3096088   -4.38125429  18.77695223 -10.79743447\n",
            "  14.38964253  -5.86084186  23.99892699  19.17649182  -9.93398212\n",
            "  13.50965568  -8.15717281   5.31814201   7.92403842  16.47977045\n",
            " -23.77745796 -13.99210544  10.59589053   3.17616185  -0.21974609\n",
            " -22.23950216  -7.58620583  18.2550116  -23.45535815  -5.17818823\n",
            "  22.25741438 -22.45596327  12.48528755 -12.11936919  18.33044161\n",
            "  12.30339895  19.28525854 -14.20376048   1.56463774  13.96349718\n",
            " -12.71501285 -13.46268474 -23.64089333  22.9257647   10.500844\n",
            "   6.7780177   12.19973613   1.58064593  -1.19330895  -2.52338794]\n",
            "Accuracy after rotation augmentation constrained by  50  is  0.6763\n",
            "shape of sample before is: (50, 28, 28)\n",
            "len(sample.shape) 3\n",
            "angle is: [0.64043921 0.20153498 0.8880587  0.81175237 0.34956361 0.5786093\n",
            " 0.1410273  0.97234625 0.90289269 0.92189751 0.33216305 0.16913471\n",
            " 0.21177216 0.09000139 0.12011063 0.07130453 0.98982307 0.07405768\n",
            " 0.13254208 0.8272546  0.58024022 0.7744172  0.63091201 0.88217507\n",
            " 0.63846753 0.52212509 0.71274969 0.44739275 0.34606382 0.46765245\n",
            " 0.16971411 0.79657173 0.26070378 0.15353155 0.24635224 0.84207015\n",
            " 0.3302013  0.68604987 0.85640963 0.07774467 0.76502441 0.30766547\n",
            " 0.21662236 0.68890145 0.90979662 0.29501921 0.56883381 0.28983411\n",
            " 0.55428559 0.62186203]\n",
            "angle with constraint is: [  8.42635273 -17.90790148  23.2835217   18.70514227  -9.02618331\n",
            "   4.71655781 -21.538362    28.34077488  24.17356126  25.31385039\n",
            " -10.07021714 -19.85191756 -17.29367019 -24.59991654 -22.79336219\n",
            " -25.72172795  29.38938415 -25.556539   -22.04747514  19.63527574\n",
            "   4.814413    16.46503227   7.85472047  22.93050422   8.30805167\n",
            "   1.32750557  12.76498163  -3.15643489  -9.23617063  -1.94085285\n",
            " -19.81715369  17.79430379 -14.35777312 -20.78810722 -15.21886549\n",
            "  20.52420911 -10.18792226  11.16299217  21.38457784 -25.33531998\n",
            "  15.90146431 -11.54007202 -17.00265815  11.33408715  24.58779736\n",
            " -12.29884748   4.13002832 -12.60995317   3.25713514   7.31172184]\n",
            "shape of sample before is: (50, 28, 28)\n",
            "len(sample.shape) 3\n",
            "angle is: [6.10335389e-01 6.23546370e-01 1.35079792e-01 6.93540470e-01\n",
            " 6.74750356e-01 6.82588122e-01 7.40705527e-02 4.46838842e-01\n",
            " 4.09035132e-01 8.67114836e-02 2.22367928e-01 4.40962632e-01\n",
            " 7.42906310e-01 2.37062077e-01 8.29749910e-01 5.45798286e-01\n",
            " 7.60421685e-01 4.72555983e-01 4.99194225e-01 6.19719389e-01\n",
            " 9.27970608e-01 4.91812581e-01 5.28657538e-01 6.01996964e-01\n",
            " 7.37515137e-01 7.18503355e-02 5.15687439e-01 4.81591589e-01\n",
            " 9.21684984e-01 4.93506580e-01 4.68320535e-01 9.62199989e-01\n",
            " 4.50576464e-01 1.80884430e-01 2.16916123e-01 9.51875383e-02\n",
            " 5.68129259e-04 4.31945661e-01 7.69242581e-01 7.33466443e-01\n",
            " 3.21490878e-02 5.69982904e-01 1.54283125e-01 9.41076285e-01\n",
            " 1.67365000e-01 6.26639218e-01 3.26238362e-01 6.41561326e-01\n",
            " 4.12258596e-01 7.59643052e-01]\n",
            "angle with constraint is: [  6.62012333   7.41278218 -21.89521247  11.61242818  10.48502138\n",
            "  10.95528733 -25.55576684  -3.18966946  -5.45789208 -24.79731098\n",
            " -16.65792433  -3.54224209  14.57437859 -15.77627538  19.78499461\n",
            "   2.74789714  15.62530111  -1.646641    -0.04834647   7.18316336\n",
            "  25.67823649  -0.49124512   1.71945229   6.11981781  14.25090824\n",
            " -25.68897987   0.94124631  -1.10450465  25.30109905  -0.38960517\n",
            "  -1.90076792  27.73199931  -2.96541218 -19.14693418 -16.98503263\n",
            " -24.2887477  -29.96591224  -4.08326034  16.15455488  14.00798657\n",
            " -28.07105473   4.19897422 -20.74301248  26.46457709 -19.95810002\n",
            "   7.59835306 -10.42569827   8.49367956  -5.26448421  15.57858314]\n",
            "shape of sample before is: (50, 28, 28)\n",
            "len(sample.shape) 3\n",
            "angle is: [0.23067913 0.90579185 0.50020965 0.75609315 0.84973019 0.99882861\n",
            " 0.22394567 0.28689241 0.25043309 0.26287133 0.58244474 0.99352252\n",
            " 0.99027809 0.52677323 0.63902721 0.85997054 0.93293346 0.20386063\n",
            " 0.52854173 0.83283705 0.30320208 0.43980904 0.9856211  0.9850467\n",
            " 0.90610681 0.79844834 0.2691305  0.32085007 0.54728284 0.56077737\n",
            " 0.50550282 0.63667028 0.40832302 0.74917416 0.33354993 0.330677\n",
            " 0.12722596 0.18871221 0.85052088 0.44628234 0.22786779 0.7593411\n",
            " 0.55398113 0.02115601 0.31636146 0.17700141 0.65587286 0.27503104\n",
            " 0.06494678 0.05493499]\n",
            "angle with constraint is: [-1.61592525e+01  2.43475112e+01  1.25789588e-02  1.53655889e+01\n",
            "  2.09838115e+01  2.99297167e+01 -1.65632601e+01 -1.27864552e+01\n",
            " -1.49740148e+01 -1.42277201e+01  4.94668449e+00  2.96113514e+01\n",
            "  2.94166852e+01  1.60639388e+00  8.34163262e+00  2.15982326e+01\n",
            "  2.59760075e+01 -1.77683624e+01  1.71250374e+00  1.99702233e+01\n",
            " -1.18078754e+01 -3.61145745e+00  2.91372661e+01  2.91028018e+01\n",
            "  2.43664086e+01  1.79069007e+01 -1.38521700e+01 -1.07489956e+01\n",
            "  2.83697047e+00  3.64664247e+00  3.30169161e-01  8.20021679e+00\n",
            " -5.50061864e+00  1.49504494e+01 -9.98700441e+00 -1.01593802e+01\n",
            " -2.23664423e+01 -1.86772674e+01  2.10312527e+01 -3.22305969e+00\n",
            " -1.63279328e+01  1.55604660e+01  3.23886755e+00 -2.87306393e+01\n",
            " -1.10183126e+01 -1.93799153e+01  9.35237166e+00 -1.34981376e+01\n",
            " -2.61031932e+01 -2.67039006e+01]\n",
            "shape of sample before is: (50, 28, 28)\n",
            "len(sample.shape) 3\n",
            "angle is: [0.5817273  0.02172346 0.84879211 0.15539712 0.60656634 0.44468803\n",
            " 0.44285152 0.07179714 0.80275225 0.89305248 0.01101667 0.17860418\n",
            " 0.90390419 0.54949361 0.15003958 0.20279045 0.65998624 0.72481682\n",
            " 0.59942681 0.95314838 0.4940636  0.30027191 0.47723291 0.35966629\n",
            " 0.22441589 0.04596325 0.35221249 0.71140935 0.0184378  0.43917851\n",
            " 0.6440094  0.61040411 0.77664844 0.81051972 0.71170582 0.1027977\n",
            " 0.47502244 0.60340596 0.24556604 0.04255182 0.22359032 0.4548944\n",
            " 0.41393032 0.17666698 0.82441554 0.92568667 0.20134832 0.92957292\n",
            " 0.01786096 0.92496247]\n",
            "angle with constraint is: [  4.90363788 -28.69659266  20.92752679 -20.67617284   6.39398011\n",
            "  -3.31871832  -3.42890873 -25.69217146  18.16513501  23.58314909\n",
            " -29.33899996 -19.28374946  24.23425133   2.96961677 -20.99762531\n",
            " -17.83257284   9.59917465  13.48900933   5.96560851  27.18890279\n",
            "  -0.35618378 -11.98368527  -1.3660254   -8.42002238 -16.53504644\n",
            " -27.24220504  -8.86725039  12.68456086 -28.89373183  -3.64928921\n",
            "   8.64056409   6.62424655  16.59890615  18.63118294  12.70234926\n",
            " -23.83213823  -1.49865336   6.20435745 -15.26603767 -27.44689094\n",
            " -16.58458075  -2.7063359   -5.16418086 -19.39998112  19.46493256\n",
            "  25.54120012 -17.91910086  25.77437493 -28.92834245  25.49774836]\n",
            "shape of sample before is: (50, 28, 28)\n",
            "len(sample.shape) 3\n",
            "angle is: [0.95192879 0.01205186 0.7630193  0.97020157 0.90590222 0.97071016\n",
            " 0.55032351 0.07815614 0.8497892  0.61382826 0.61473674 0.41725361\n",
            " 0.57184198 0.15357978 0.73977003 0.07501731 0.72978077 0.84897842\n",
            " 0.47246868 0.50983037 0.31221427 0.96945858 0.73312447 0.36898855\n",
            " 0.17480739 0.21957959 0.46392229 0.9425684  0.73414635 0.21524375\n",
            " 0.85956113 0.37820052 0.85172218 0.2416996  0.61866061 0.92667049\n",
            " 0.25789401 0.69292659 0.98731262 0.15059829 0.08840229 0.67419519\n",
            " 0.33973595 0.07124448 0.47530562 0.75377068 0.2851224  0.33504688\n",
            " 0.8456994  0.52007191]\n",
            "angle with constraint is: [ 27.1157274  -29.27688822  15.78115781  28.21209435  24.35413313\n",
            "  28.24260967   3.01941034 -25.31063161  20.98735187   6.82969535\n",
            "   6.88420465  -4.96478341   4.31051859 -20.78521325  14.38620159\n",
            " -25.49896156  13.78684602  20.93870536  -1.65187935   0.58982196\n",
            " -11.26714362  28.16751502  13.98746847  -7.8606868  -19.51155683\n",
            " -16.82522447  -2.16466283  26.55410402  14.04878075 -17.08537511\n",
            "  21.57366801  -7.30796862  21.10333097 -15.49802412   7.11963672\n",
            "  25.60022928 -14.52635945  11.57559544  29.2387572  -20.96410277\n",
            " -24.69586256  10.45171155  -9.61584314 -25.72533136  -1.48166293\n",
            "  15.22624078 -12.89265598  -9.89718735  20.74196404   1.20431474]\n",
            "Accuracy after rotation augmentation constrained by  60  is  0.674\n",
            "shape of sample before is: (50, 28, 28)\n",
            "len(sample.shape) 3\n",
            "angle is: [0.84273197 0.44638949 0.95297516 0.65079459 0.11589887 0.88509299\n",
            " 0.48926519 0.14163897 0.15269013 0.68753394 0.04737251 0.28659376\n",
            " 0.13978759 0.44107743 0.41435377 0.52187643 0.27963633 0.03204359\n",
            " 0.61438611 0.373718   0.651335   0.10866697 0.01377736 0.24829425\n",
            " 0.45654732 0.39407197 0.81030256 0.37783764 0.53044118 0.59351559\n",
            " 0.02183139 0.51513338 0.34483126 0.42128013 0.1002874  0.78282057\n",
            " 0.94240425 0.02226882 0.60137276 0.76384407 0.28480759 0.78755558\n",
            " 0.63235505 0.92916263 0.98100481 0.04234611 0.44493776 0.54698779\n",
            " 0.14674323 0.33628583]\n",
            "angle with constraint is: [ 23.99123782  -3.75273555  31.70826131  10.55562128 -26.88707943\n",
            "  26.95650918  -0.75143664 -25.08527224 -24.31169063  13.12737546\n",
            " -31.68392453 -14.93843646 -25.21486867  -4.12457993  -5.99523596\n",
            "   1.53135043 -15.42545696 -32.75694874   8.00702746  -8.8397398\n",
            "  10.59344991 -27.39331204 -34.03558513 -17.61940265  -3.04168739\n",
            "  -7.41496181  21.72117887  -8.55136491   2.13088257   6.54609147\n",
            " -33.47180258   1.05933638 -10.86181184  -5.51039106 -27.97988211\n",
            "  19.7974396   30.96829756 -33.44118256   7.0960934   18.46908471\n",
            " -15.06346879  20.12889094   9.26485355  30.04138426  33.67033679\n",
            " -32.03577202  -3.85435673   3.28914513 -24.72797368 -11.45999187]\n",
            "shape of sample before is: (50, 28, 28)\n",
            "len(sample.shape) 3\n",
            "angle is: [0.98764745 0.01623046 0.45250793 0.84265462 0.32390126 0.4797985\n",
            " 0.97804575 0.47487684 0.13092131 0.05172149 0.94541657 0.26580941\n",
            " 0.50406391 0.09070177 0.42365512 0.93010552 0.50241299 0.97113515\n",
            " 0.25883564 0.50454524 0.85953079 0.44825235 0.27948737 0.85547536\n",
            " 0.38988947 0.53072329 0.97652707 0.18648329 0.30140064 0.0310696\n",
            " 0.39183771 0.20018343 0.68003494 0.18132146 0.67481275 0.26347543\n",
            " 0.35521783 0.34886065 0.71675175 0.46650926 0.3612989  0.85262272\n",
            " 0.57195063 0.21383082 0.90009128 0.3426503  0.03897938 0.49460022\n",
            " 0.12393805 0.23846644]\n",
            "angle with constraint is: [ 34.13532134 -33.86386806  -3.32444479  23.98582352 -12.32691161\n",
            "  -1.41410481  33.46320221  -1.75862145 -25.83550815 -31.37949558\n",
            "  31.17916007 -16.39334107   0.28447346 -28.65087637  -5.34414156\n",
            "  30.10738635   0.16890955  32.97946063 -16.88150539   0.31816678\n",
            "  25.16715543  -3.62233518 -15.43588385  24.88327544  -7.70773718\n",
            "   2.15063037  33.35689465 -21.94616937 -13.90195543 -32.825128\n",
            "  -7.57136031 -20.98715986  12.60244548 -22.30749789  12.23689267\n",
            " -16.55672003 -10.13475161 -10.57975436  15.17262251  -2.34435158\n",
            "  -9.70907708  24.68359033   5.03654379 -20.03184251  28.00638947\n",
            " -11.01447928 -32.27144357  -0.37798432 -26.32433619 -18.30734894]\n",
            "shape of sample before is: (50, 28, 28)\n",
            "len(sample.shape) 3\n",
            "angle is: [0.74711087 0.13075181 0.80694422 0.93690729 0.6065321  0.71035919\n",
            " 0.71358661 0.99280796 0.34153826 0.16285655 0.51916723 0.53324981\n",
            " 0.17791249 0.61310942 0.01412473 0.9276684  0.26457428 0.03956021\n",
            " 0.10824944 0.24024895 0.27390617 0.03281    0.27935481 0.19294174\n",
            " 0.37862093 0.38516774 0.33900774 0.32792388 0.08973128 0.02520495\n",
            " 0.2021143  0.75664943 0.99080977 0.92852618 0.50421936 0.53182386\n",
            " 0.31458157 0.77393944 0.76475669 0.84427236 0.89550458 0.43434925\n",
            " 0.76687557 0.80639873 0.30845962 0.92924224 0.0943415  0.99426918\n",
            " 0.77009072 0.09327091]\n",
            "angle with constraint is: [ 17.29776109 -25.84737306  21.4860957   30.58351017   7.45724703\n",
            "  14.72514344  14.95106269  34.49655701 -11.09232165 -23.60004141\n",
            "   1.34170644   2.32748669 -22.54612582   7.91765933 -34.01126866\n",
            "  29.93678817 -16.47980055 -32.23078541 -27.4225391  -18.18257362\n",
            " -15.8265682  -32.70330004 -15.44516315 -21.49407845  -8.49653508\n",
            "  -8.03825839 -11.26945816 -12.04532815 -28.71881056 -33.2356537\n",
            " -20.85199899  17.96545992  34.35668359  29.99683225   0.29535489\n",
            "   2.2276699  -12.97929017  19.1757607   18.53296816  24.09906503\n",
            "  27.6853204   -4.59555262  18.68128977  21.44791102 -13.40782643\n",
            "  30.04695708 -28.39609482  34.59884254  18.90635027 -28.47103663]\n",
            "shape of sample before is: (50, 28, 28)\n",
            "len(sample.shape) 3\n",
            "angle is: [0.65622965 0.03417941 0.77018695 0.79922292 0.60241025 0.85686039\n",
            " 0.09788328 0.27592384 0.41417752 0.04245795 0.44821609 0.26521346\n",
            " 0.39273501 0.42510263 0.87941173 0.27034097 0.89374313 0.42597096\n",
            " 0.32780772 0.50251205 0.41774329 0.25737231 0.50267932 0.15180173\n",
            " 0.35192994 0.56579022 0.41340824 0.82391236 0.25672176 0.96977158\n",
            " 0.78472202 0.96759303 0.83813655 0.14210393 0.52646009 0.16997852\n",
            " 0.81822735 0.58416215 0.26344931 0.92959897 0.11518605 0.5638624\n",
            " 0.72104055 0.05884854 0.59785603 0.81590122 0.06752731 0.51224297\n",
            " 0.25855718 0.66292445]\n",
            "angle with constraint is: [ 10.93607537 -32.60744124  18.91308646  20.94560452   7.16871772\n",
            "  24.98022743 -28.14817038 -15.68533106  -6.00757349 -32.0279433\n",
            "  -3.62487387 -16.43505807  -7.50854915  -5.24281576  26.55882134\n",
            " -16.07613206  27.56201901  -5.18203246 -12.05345955   0.17584345\n",
            "  -5.75796995 -16.98393809   0.18755274 -24.37387868 -10.36490399\n",
            "   4.60531536  -6.06142289  22.67386527 -17.02947669  32.88401052\n",
            "  19.93054146  32.73151182  23.66955884 -25.05272519   1.85220634\n",
            " -23.10150352  22.27591468   5.89135044 -16.558548    30.07192804\n",
            " -26.93697627   4.47036824  15.47283883 -30.88060239   6.84992232\n",
            "  22.11308508 -30.27308799   0.85700798 -16.90099753  11.40471161]\n",
            "shape of sample before is: (50, 28, 28)\n",
            "len(sample.shape) 3\n",
            "angle is: [0.11867737 0.93705143 0.89472858 0.18597442 0.32326588 0.58763497\n",
            " 0.71806234 0.44265602 0.15629132 0.10415149 0.99976534 0.45535212\n",
            " 0.87253175 0.482376   0.92235764 0.08775938 0.11401919 0.92963219\n",
            " 0.94749305 0.31471745 0.35516489 0.45245023 0.41616168 0.19004522\n",
            " 0.89837538 0.2533076  0.70527241 0.06715568 0.03875133 0.65373047\n",
            " 0.33901586 0.65545939 0.0940212  0.94985138 0.74851447 0.87626723\n",
            " 0.13647055 0.32016097 0.36834416 0.53717265 0.29686849 0.06063074\n",
            " 0.36887838 0.25454931 0.38592129 0.19695954 0.26189637 0.62695234\n",
            " 0.38815383 0.34538339]\n",
            "angle with constraint is: [-26.6925843   30.59360015  27.63100072 -21.98179061 -12.37138809\n",
            "   6.13444823  15.26436356  -4.01407894 -24.05960746 -27.70939543\n",
            "  34.98357358  -3.1253515   26.07722244  -1.23367968  29.5650347\n",
            " -28.85684321 -27.01865661  30.07425314  31.32451315 -12.96977868\n",
            " -10.13845791  -3.32848356  -5.8686824  -21.69683488  27.88627688\n",
            " -17.26846795  14.36906866 -30.29910256 -32.28740679  10.76113308\n",
            " -11.26888997  10.88215749 -28.41851585  31.48959659  17.39601268\n",
            "  26.33870631 -25.44706122 -12.58873218  -9.21590851   2.60208538\n",
            " -14.21920601 -30.75584805  -9.17851335 -17.18154798  -7.9855096\n",
            " -21.21283202 -16.66725378   8.88666383  -7.82923158 -10.82316248]\n",
            "Accuracy after rotation augmentation constrained by  70  is  0.6542\n",
            "shape of sample before is: (50, 28, 28)\n",
            "len(sample.shape) 3\n",
            "angle is: [0.53390563 0.77186054 0.37886796 0.58751949 0.96620263 0.52198011\n",
            " 0.90979758 0.79367262 0.05871868 0.42909887 0.69831841 0.98671191\n",
            " 0.45837629 0.09278545 0.56200917 0.12656379 0.75151956 0.507677\n",
            " 0.72343137 0.86936183 0.62894802 0.61243933 0.7545703  0.842455\n",
            " 0.86905379 0.0364302  0.5561903  0.21626931 0.86034589 0.64839769\n",
            " 0.42022248 0.18810423 0.33902363 0.70377769 0.20435955 0.09358295\n",
            " 0.88802876 0.76421035 0.19979493 0.29231154 0.97207018 0.70818449\n",
            " 0.610522   0.30762849 0.29912514 0.03952362 0.72848187 0.04317523\n",
            " 0.00485734 0.72949509]\n",
            "angle with constraint is: [  2.71245062  21.74884327  -9.69056349   7.0015594   37.29621003\n",
            "   1.75840913  32.78380612  23.49380994 -35.30250547  -5.67209028\n",
            "  15.86547263  38.936953    -3.32989671 -32.57716367   4.96073398\n",
            " -29.87489663  20.12156482   0.6141598   17.87450947  29.54894615\n",
            "  10.31584137   8.99514634  20.36562364  27.39640012  29.5243029\n",
            " -37.08558435   4.49522374 -22.69845522  28.82767126  11.87181482\n",
            "  -6.38220168 -24.95166175 -12.87810993  16.30221556 -23.65123638\n",
            " -32.51336437  31.04230066  21.13682797 -24.01640555 -16.61507653\n",
            "  37.76561417  16.65475894   8.84176034 -15.38972117 -16.06998847\n",
            " -36.8381105   18.27854935 -36.545982   -39.61141298  18.35960703]\n",
            "shape of sample before is: (50, 28, 28)\n",
            "len(sample.shape) 3\n",
            "angle is: [0.94887376 0.75650305 0.47164019 0.48604525 0.43613642 0.32464367\n",
            " 0.52171421 0.43115096 0.59816788 0.89812008 0.99500942 0.07874329\n",
            " 0.38468347 0.1807062  0.35212047 0.28747302 0.17453713 0.76407605\n",
            " 0.49628874 0.91924558 0.03259244 0.06697801 0.40327358 0.08027732\n",
            " 0.2627296  0.98602974 0.20895961 0.19811774 0.57364067 0.49799829\n",
            " 0.5804383  0.37673528 0.82676236 0.13858055 0.42839265 0.68976185\n",
            " 0.86823644 0.36957161 0.5677456  0.06913995 0.17031909 0.06913816\n",
            " 0.72788089 0.28805997 0.72374529 0.06639828 0.8625478  0.8355302\n",
            " 0.08892874 0.02375651]\n",
            "angle with constraint is: [ 35.90990057  20.52024382  -2.26878475  -1.11638004  -5.10908619\n",
            " -14.02850663   1.73713713  -5.50792343   7.8534304   31.84960644\n",
            "  39.60075339 -33.70053681  -9.22532219 -25.54350434 -11.83036209\n",
            " -17.00215852 -26.03702947  21.12608427  -0.29690057  33.53964658\n",
            " -37.39260454 -34.64175895  -7.73811337 -33.57781437 -18.98163229\n",
            "  38.88237945 -23.2832314  -24.15058069   5.8912535   -0.16013674\n",
            "   6.43506378  -9.86117774  26.14098879 -28.91355588  -5.72858833\n",
            "  15.18094788  29.45891522 -10.43427149   5.41964793 -34.4688044\n",
            " -26.37447295 -34.468947    18.23047136 -16.9552025   17.89962322\n",
            " -34.68813768  29.00382403  26.84241585 -32.88570056 -38.09947948]\n",
            "shape of sample before is: (50, 28, 28)\n",
            "len(sample.shape) 3\n",
            "angle is: [0.05628881 0.85363017 0.23470349 0.54827332 0.4262442  0.79552553\n",
            " 0.4888983  0.50066084 0.98909194 0.15012956 0.83070394 0.05174975\n",
            " 0.47764877 0.88633482 0.66521397 0.68521462 0.26331728 0.41857479\n",
            " 0.36658106 0.52144321 0.46222793 0.32689835 0.30548061 0.25085289\n",
            " 0.36504725 0.14994148 0.8721043  0.60211939 0.13378643 0.69385933\n",
            " 0.84766647 0.23753567 0.15060059 0.00861726 0.04725034 0.76225135\n",
            " 0.98718633 0.04488032 0.74807096 0.07186217 0.59213282 0.75607528\n",
            " 0.3592044  0.01093472 0.59518935 0.99124463 0.25761742 0.18949128\n",
            " 0.12392589 0.55525562]\n",
            "angle with constraint is: [-35.49689496  28.29041385 -21.22372088   3.86186543  -5.90046375\n",
            "  23.6420421   -0.88813588   0.05286725  39.12735516 -27.98963546\n",
            "  26.4563151  -35.86002035  -1.78809843  30.90678591  13.21711725\n",
            "  14.81716955 -18.93461742  -6.51401669 -10.67351492   1.71545681\n",
            "  -3.02176559 -13.84813185 -15.56155101 -19.93176867 -10.79622025\n",
            " -28.00468177  29.76834416   8.16955135 -29.29708595  15.50874674\n",
            "  27.81331744 -20.99714624 -27.95195245 -39.31061943 -36.21997289\n",
            "  20.98010786  38.97490656 -36.4095742   19.84567673 -34.25102673\n",
            "   7.37062599  20.48602259 -11.26364822 -39.12522231   7.61514817\n",
            "  39.29957025 -19.39060617 -24.84069783 -30.08592858   4.42044959]\n",
            "shape of sample before is: (50, 28, 28)\n",
            "len(sample.shape) 3\n",
            "angle is: [0.5964451  0.79227084 0.75307327 0.89254149 0.8057727  0.24726708\n",
            " 0.5558774  0.29741196 0.32978538 0.93194437 0.68189591 0.97459041\n",
            " 0.41691254 0.53743757 0.48711542 0.10728706 0.23670199 0.52763636\n",
            " 0.06737431 0.93146193 0.12384368 0.19798075 0.76532122 0.09693454\n",
            " 0.9002781  0.72570097 0.06862086 0.69184706 0.63162854 0.75734943\n",
            " 0.82819785 0.71835056 0.5861763  0.32246332 0.69727366 0.95697158\n",
            " 0.58752178 0.66434487 0.43712804 0.75612081 0.99766739 0.16038932\n",
            " 0.20240528 0.53943776 0.4813754  0.57156978 0.04907405 0.40427646\n",
            " 0.58297826 0.58519135]\n",
            "angle with constraint is: [  7.71560795  23.38166697  20.24586189  31.40331958  24.46181587\n",
            " -20.21863335   4.47019239 -16.20704327 -13.61716964  34.55554954\n",
            "  14.55167241  37.96723306  -6.64699706   2.99500587  -1.03076641\n",
            " -31.4170354  -21.06384044   2.21090885 -34.61005559  34.51695434\n",
            " -30.09250544 -24.16154029  21.22569792 -32.24523666  32.02224797\n",
            "  18.05607766 -34.51033143  15.3477649   10.53028337  20.58795462\n",
            "  26.2558282   17.46804505   6.89410362 -14.20293451  15.78189295\n",
            "  36.55772677   7.00174244  13.14758947  -5.02975662  20.48966478\n",
            "  39.81339139 -27.16885407 -23.80757764   3.15502069  -1.48996822\n",
            "   5.72558276 -36.07407618  -7.65788349   6.63826097   6.8153081 ]\n",
            "shape of sample before is: (50, 28, 28)\n",
            "len(sample.shape) 3\n",
            "angle is: [0.65733396 0.72021603 0.6415472  0.79024316 0.62476063 0.53750766\n",
            " 0.60619643 0.10119337 0.27315654 0.52739978 0.87298722 0.67905156\n",
            " 0.09040808 0.59227495 0.22173799 0.73401656 0.82744085 0.59345627\n",
            " 0.59136261 0.33859144 0.44625002 0.86410835 0.72332033 0.51975366\n",
            " 0.36823239 0.05037974 0.1430074  0.19302519 0.37338354 0.94414365\n",
            " 0.50515339 0.23484016 0.10575014 0.33830552 0.81573064 0.38334279\n",
            " 0.77250581 0.80270498 0.11082077 0.60865975 0.95909606 0.40213807\n",
            " 0.05094409 0.92330269 0.88366628 0.52214145 0.55225312 0.2117411\n",
            " 0.81945076 0.49860004]\n",
            "angle with constraint is: [ 12.58671694  17.61728232  11.32377627  23.21945243   9.98085077\n",
            "   3.000613     8.49571431 -31.90453066 -18.14747674   2.19198245\n",
            "  29.83897723  14.3241245  -32.76735372   7.38199604 -22.26096099\n",
            "  18.72132478  26.1952682    7.47650181   7.30900878 -12.91268454\n",
            "  -4.29999831  29.12866831  17.86562648   1.58029278 -10.5414091\n",
            " -35.96962094 -28.55940789 -24.55798484 -10.12931654  35.53149177\n",
            "   0.41227159 -21.21278694 -31.539989   -12.93555803  25.25845084\n",
            "  -9.33257653  21.80046448  24.21639809 -31.13433842   8.69278021\n",
            "  36.72768507  -7.82895401 -35.92447288  33.86421522  30.69330253\n",
            "   1.77131578   4.18024963 -23.06071178  25.55606044  -0.11199693]\n",
            "Accuracy after rotation augmentation constrained by  80  is  0.6496\n",
            "shape of sample before is: (50, 28, 28)\n",
            "len(sample.shape) 3\n",
            "angle is: [0.0338778  0.68301496 0.95049627 0.82915049 0.27719814 0.05332508\n",
            " 0.94035141 0.93706272 0.53241532 0.64231741 0.46260006 0.41976537\n",
            " 0.11944844 0.0967529  0.23273215 0.83664075 0.1458323  0.22669865\n",
            " 0.54861406 0.21513122 0.16320668 0.56331624 0.36809327 0.62615929\n",
            " 0.91220534 0.15099313 0.91343366 0.90248997 0.82908758 0.63128592\n",
            " 0.62014666 0.63921266 0.69049555 0.0164822  0.95809258 0.58560376\n",
            " 0.78146584 0.37728184 0.01239721 0.50973466 0.50719012 0.43698929\n",
            " 0.33971705 0.24982609 0.52754487 0.37527814 0.96993188 0.17292731\n",
            " 0.31966557 0.29396047]\n",
            "angle with constraint is: [-41.95099844  16.47134608  40.54466428  29.62354413 -20.05216738\n",
            " -40.20074236  39.63162713  39.33564524   2.91737877  12.80856705\n",
            "  -3.36599454  -7.22111696 -34.24964077 -36.29223915 -24.0541068\n",
            "  30.29766718 -31.87509293 -24.59712133   4.37526534 -25.63819037\n",
            " -30.31139838   5.69846175 -11.87160561  11.35433573  37.09848064\n",
            " -31.41061817  37.20902938  36.22409707  29.6178825   11.81573256\n",
            "  10.81319917  12.52913939  17.14459961 -43.51660195  41.22833212\n",
            "   7.70433853  25.33192555 -11.04463448 -43.88425075   0.87611939\n",
            "   0.64711074  -5.67096405 -14.42546513 -22.5156521    2.4790387\n",
            " -11.22496743  42.29386947 -29.4365423  -16.23009891 -18.54355762]\n",
            "shape of sample before is: (50, 28, 28)\n",
            "len(sample.shape) 3\n",
            "angle is: [0.54330918 0.49928026 0.64374047 0.95000177 0.28522109 0.69277157\n",
            " 0.0250402  0.26238847 0.46371973 0.03099479 0.61766946 0.67831061\n",
            " 0.74673171 0.5165745  0.60394466 0.39606525 0.04125303 0.09995186\n",
            " 0.65499592 0.9955553  0.01580324 0.5575835  0.75100875 0.82677483\n",
            " 0.5452049  0.61991598 0.69672495 0.85896625 0.12228954 0.9261822\n",
            " 0.0260174  0.83619975 0.07674043 0.19462821 0.00389415 0.44525671\n",
            " 0.33435923 0.16599291 0.45109016 0.40237088 0.76766103 0.89313031\n",
            " 0.65256725 0.12441039 0.29539079 0.9133183  0.08873449 0.40685584\n",
            " 0.94250462 0.95066484]\n",
            "angle with constraint is: [  3.89782586  -0.06477687  12.93664189  40.50015935 -19.33010231\n",
            "  17.34944123 -42.74638173 -21.38503745  -3.26522448 -42.21046904\n",
            "  10.59025145  16.04795476  22.20585434   1.49170544   9.35501985\n",
            "  -9.35412738 -41.28722707 -36.00433298  13.94963318  44.59997696\n",
            " -43.57770848   5.18251471  22.59078776  29.40973452   4.06844111\n",
            "  10.79243822  17.70524507  32.30696247 -33.99394165  38.35639766\n",
            " -42.65843368  30.25797759 -38.09336161 -27.48346096 -44.64952683\n",
            "  -4.9268965  -14.9076696  -30.06063797  -4.40188553  -8.78662051\n",
            "  24.08949294  35.38172755  13.73105266 -33.80306501 -18.41482848\n",
            "  37.19864671 -37.01389563  -8.38297445  39.82541573  40.55983573]\n",
            "shape of sample before is: (50, 28, 28)\n",
            "len(sample.shape) 3\n",
            "angle is: [0.41120318 0.66739689 0.4567456  0.75346054 0.03158133 0.14415715\n",
            " 0.6141988  0.23255226 0.6660523  0.35122293 0.88664556 0.81925939\n",
            " 0.4928378  0.77289509 0.27113789 0.49425978 0.19748205 0.86088617\n",
            " 0.82306762 0.90214967 0.87747698 0.95959626 0.22833623 0.93182429\n",
            " 0.57121319 0.42249508 0.5603739  0.34260236 0.28855301 0.24131434\n",
            " 0.08242799 0.4965649  0.88776168 0.63015197 0.52097563 0.42859292\n",
            " 0.46440163 0.20927735 0.82293588 0.19838296 0.71662276 0.75998501\n",
            " 0.57486904 0.86292637 0.29105035 0.88161722 0.72941046 0.79874983\n",
            " 0.66457971 0.84634302]\n",
            "angle with constraint is: [ -7.99171407  15.06571993  -3.89289615  22.81144855 -42.15768024\n",
            " -32.0258566   10.27789232 -24.07029638  14.94470693 -13.38993653\n",
            "  34.79810023  28.7333447   -0.64459799  24.56055784 -20.59759024\n",
            "  -0.51662009 -27.22661533  32.47975517  29.07608549  36.19347016\n",
            "  33.97292831  41.36366359 -24.44973915  38.86418617   6.40918722\n",
            "  -6.97544245   5.43365064 -14.1657879  -19.03022937 -23.28170958\n",
            " -37.58148095  -0.30915926  34.89855081  11.71367723   1.88780695\n",
            "  -6.42663736  -3.20385363 -26.16503872  29.06422895 -27.1455333\n",
            "  19.49604811  23.39865103   6.73821378  32.66337375 -18.80546828\n",
            "  34.34554991  20.64694136  26.8874845   14.81217386  31.17087153]\n",
            "shape of sample before is: (50, 28, 28)\n",
            "len(sample.shape) 3\n",
            "angle is: [0.99309886 0.42016285 0.81391568 0.74457976 0.45287017 0.926949\n",
            " 0.39442593 0.56546592 0.10594236 0.22577519 0.84069617 0.39655272\n",
            " 0.39408409 0.24598102 0.49161033 0.80581696 0.89516412 0.07011443\n",
            " 0.57482073 0.46727337 0.61428185 0.44727569 0.39864482 0.47188071\n",
            " 0.58199913 0.50098321 0.47214445 0.81783531 0.74564799 0.34137849\n",
            " 0.80057712 0.85365067 0.15349221 0.58268246 0.28531199 0.73917232\n",
            " 0.23878533 0.67140352 0.25512466 0.51114376 0.94864647 0.38130754\n",
            " 0.87573849 0.98694458 0.87485085 0.16586603 0.81965822 0.0321494\n",
            " 0.39330188 0.87073337]\n",
            "angle with constraint is: [ 44.37889764  -7.18534309  28.25241153  22.01217836  -4.24168509\n",
            "  38.42540998  -9.50166634   5.89193246 -35.46518787 -24.68023253\n",
            "  30.66265535  -9.31025495  -9.53243195 -22.86170836  -0.75506991\n",
            "  27.52352652  35.5647706  -38.68970112   6.73386581  -2.94539689\n",
            "  10.28536654  -4.74518818  -9.12196612  -2.53073588   7.37992159\n",
            "   0.08848899  -2.50699941  28.6051779   22.10831921 -14.27593552\n",
            "  27.05194058  31.82856021 -31.18570152   7.44142156 -19.32192058\n",
            "  21.52550897 -23.50932036  15.42631718 -22.03878095   1.00293871\n",
            "  40.37818211 -10.68232154  33.81646374  43.82501231  33.73657639\n",
            " -30.07205732  28.76923976 -42.10655444  -9.60283047  33.3660036 ]\n",
            "shape of sample before is: (50, 28, 28)\n",
            "len(sample.shape) 3\n",
            "angle is: [0.68875221 0.53274043 0.38786403 0.81229695 0.7095584  0.46840532\n",
            " 0.89248434 0.22994802 0.17039151 0.64280376 0.97199434 0.24725657\n",
            " 0.24967038 0.13949885 0.86056356 0.22639754 0.50317853 0.99087248\n",
            " 0.0121409  0.55648609 0.51228904 0.80744738 0.35528154 0.41034136\n",
            " 0.16793798 0.74081523 0.78470891 0.13666332 0.39345707 0.892905\n",
            " 0.00270727 0.29875907 0.55504229 0.33409386 0.27204519 0.46003748\n",
            " 0.18152311 0.52962524 0.70669592 0.57529495 0.09310933 0.84440861\n",
            " 0.17497784 0.764812   0.36056511 0.78276135 0.2062729  0.1866621\n",
            " 0.49702585 0.03293601]\n",
            "angle with constraint is: [ 16.98769915   2.94663846 -10.09223774  28.10672518  18.86025636\n",
            "  -2.84352123  35.32359035 -24.3046784  -29.66476418  12.85233879\n",
            "  42.47949084 -22.7469084  -22.5296659  -32.44510368  32.45071997\n",
            " -24.62422136   0.28606741  44.17852302 -43.90731892   5.08374815\n",
            "   1.10601384  27.67026388 -13.02466144  -8.0692777  -29.88558175\n",
            "  21.67337085  25.62380183 -32.70030113  -9.58886334  35.36144958\n",
            " -44.75634537 -18.11168364   4.95380565 -14.93155263 -20.51593297\n",
            "  -3.59662636 -28.66292027   2.66627169  18.60263292   6.77654574\n",
            " -36.62016022  30.99677527 -29.25199463  23.83308006 -12.54914003\n",
            "  25.44852133 -26.43543869 -28.20041067  -0.26767384 -42.03575868]\n",
            "Accuracy after rotation augmentation constrained by  90  is  0.6499\n"
          ]
        }
      ]
    },
    {
      "cell_type": "code",
      "source": [
        "Accuracy after rotation augmentation constrained by  90  is  0.6467"
      ],
      "metadata": {
        "id": "s0izl6u1GtuM",
        "outputId": "874917e7-5e4d-40c8-ffe6-9dc644b8c3e8",
        "colab": {
          "base_uri": "https://localhost:8080/",
          "height": 130
        }
      },
      "execution_count": null,
      "outputs": [
        {
          "output_type": "error",
          "ename": "SyntaxError",
          "evalue": "ignored",
          "traceback": [
            "\u001b[0;36m  File \u001b[0;32m\"<ipython-input-28-4489617fdfc5>\"\u001b[0;36m, line \u001b[0;32m1\u001b[0m\n\u001b[0;31m    Accuracy after rotation augmentation constrained by  90  is  0.6467\u001b[0m\n\u001b[0m                 ^\u001b[0m\n\u001b[0;31mSyntaxError\u001b[0m\u001b[0;31m:\u001b[0m invalid syntax\n"
          ]
        }
      ]
    },
    {
      "cell_type": "markdown",
      "source": [
        "Let us see the best value for angle constraint: (Ideally this should be done on validation set, not test set)"
      ],
      "metadata": {
        "id": "8Le-7VJBoP8K"
      }
    },
    {
      "cell_type": "code",
      "source": [
        "fig = plt.figure()\n",
        "ax = fig.add_axes([0.1, 0.1, 0.8, 0.8]) # main axes\n",
        "# plot the variation of accuracy\n",
        "ax.plot(angleconstraints, accuracies)\n",
        "ax.set_xlabel('angle')\n",
        "ax.set_ylabel('accuracy')\n",
        "# plot the maximum accuracy\n",
        "maxind = np.argmax(accuracies)\n",
        "plt.scatter(angleconstraints[maxind], accuracies[maxind], c='red')"
      ],
      "metadata": {
        "colab": {
          "base_uri": "https://localhost:8080/",
          "height": 309
        },
        "id": "xG__xE-FoQOg",
        "outputId": "2f31b353-790e-4a85-cd13-e734571f388c"
      },
      "execution_count": null,
      "outputs": [
        {
          "output_type": "execute_result",
          "data": {
            "text/plain": [
              "<matplotlib.collections.PathCollection at 0x7f8f02ef8f10>"
            ]
          },
          "metadata": {},
          "execution_count": 29
        },
        {
          "output_type": "display_data",
          "data": {
            "text/plain": [
              "<Figure size 432x288 with 1 Axes>"
            ],
            "image/png": "[encoded data removed]"
          },
          "metadata": {
            "needs_background": "light"
          }
        }
      ]
    },
    {
      "cell_type": "markdown",
      "source": [
        "Let us do a grid search to find the best shear constraint."
      ],
      "metadata": {
        "id": "Vfy-LEb-qdUd"
      }
    },
    {
      "cell_type": "code",
      "source": [
        "shearconstraints = [0, 0.2,0.4,0.6,0.8,1.0,1.2,1.4,1.6,1.8,2.0] # the values we want to test\n",
        "accuracies = np.zeros(len(shearconstraints), dtype=np.float) # we will save the values here\n",
        "\n",
        "for ii in range(len(shearconstraints)):\n",
        "  # create the augmented dataset\n",
        "  augdata = train_X # we include the original images also in the augmented dataset\n",
        "  auglabel = train_y\n",
        "  for jj in range(naugmentations):\n",
        "    augdata = np.concatenate((augdata, augShear(train_X, shearconstraints[ii]))) # concatenate the augmented data to the set\n",
        "    auglabel = np.concatenate((auglabel, train_y))  # the labels don't change when we augment\n",
        "\n",
        "  # check the test accuracy\n",
        "  testpred = NN(augdata, auglabel, test_X)\n",
        "  accuracies[ii] = Accuracy(test_y, testpred)\n",
        "  print('Accuracy after shear augmentation constrained by ',shearconstraints[ii], ' is ', accuracies[ii], flush=True)"
      ],
      "metadata": {
        "colab": {
          "base_uri": "https://localhost:8080/"
        },
        "id": "22m9xPrBoSDi",
        "outputId": "c96697f6-f315-4c10-be18-4eb2c9ff60dc"
      },
      "execution_count": null,
      "outputs": [
        {
          "output_type": "stream",
          "name": "stderr",
          "text": [
            "/usr/local/lib/python3.7/dist-packages/ipykernel_launcher.py:2: DeprecationWarning: `np.float` is a deprecated alias for the builtin `float`. To silence this warning, use `float` by itself. Doing this will not modify any behavior and is safe. If you specifically wanted the numpy scalar type, use `np.float64` here.\n",
            "Deprecated in NumPy 1.20; for more details and guidance: https://numpy.org/devdocs/release/1.20.0-notes.html#deprecations\n",
            "  \n"
          ]
        },
        {
          "output_type": "stream",
          "name": "stdout",
          "text": [
            "Accuracy after shear augmentation constrained by  0  is  0.6472\n",
            "Accuracy after shear augmentation constrained by  0.2  is  0.6191\n",
            "Accuracy after shear augmentation constrained by  0.4  is  0.6395\n",
            "Accuracy after shear augmentation constrained by  0.6  is  0.6548\n",
            "Accuracy after shear augmentation constrained by  0.8  is  0.6481\n",
            "Accuracy after shear augmentation constrained by  1.0  is  0.6385\n",
            "Accuracy after shear augmentation constrained by  1.2  is  0.6381\n",
            "Accuracy after shear augmentation constrained by  1.4  is  0.614\n",
            "Accuracy after shear augmentation constrained by  1.6  is  0.6202\n",
            "Accuracy after shear augmentation constrained by  1.8  is  0.6273\n",
            "Accuracy after shear augmentation constrained by  2.0  is  0.5944\n"
          ]
        }
      ]
    },
    {
      "cell_type": "code",
      "source": [
        "fig = plt.figure()\n",
        "ax = fig.add_axes([0.1, 0.1, 0.8, 0.8]) # main axes\n",
        "# plot the variation of accuracy\n",
        "ax.plot(shearconstraints, accuracies)\n",
        "ax.set_xlabel('angle')\n",
        "ax.set_ylabel('accuracy')\n",
        "# plot the maximum accuracy\n",
        "maxind = np.argmax(accuracies)\n",
        "plt.scatter(shearconstraints[maxind], accuracies[maxind], c='red')"
      ],
      "metadata": {
        "colab": {
          "base_uri": "https://localhost:8080/",
          "height": 309
        },
        "id": "kBBum9xPqglf",
        "outputId": "8cac82cd-db4a-47de-a958-853667e23d9d"
      },
      "execution_count": null,
      "outputs": [
        {
          "output_type": "execute_result",
          "data": {
            "text/plain": [
              "<matplotlib.collections.PathCollection at 0x7f8f02e874d0>"
            ]
          },
          "metadata": {},
          "execution_count": 31
        },
        {
          "output_type": "display_data",
          "data": {
            "text/plain": [
              "<Figure size 432x288 with 1 Axes>"
            ],
            "image/png": "[encoded data removed]"
          },
          "metadata": {
            "needs_background": "light"
          }
        }
      ]
    },
    {
      "cell_type": "markdown",
      "source": [
        "We can do multiple augmentations at the same time. Here is a function to do both shear and rotation to the sample. In this case, we will have two hyperparameters."
      ],
      "metadata": {
        "id": "88Bu9veestqd"
      }
    },
    {
      "cell_type": "code",
      "source": [
        "def augRotateShear(sample, angleconstraint, shearconstraint):\n",
        "  if len(sample.shape)==2:\n",
        "    sample = np.expand_dims(sample, 0)  # make sure the sample is 3 dimensional\n",
        "  amt = rng.random(len(sample)) # generate random numbers for shear\n",
        "  amt = (amt-0.5)*shearconstraint # make the random shear constrained\n",
        "  angle = rng.random(len(sample)) # generate random numbers for angles\n",
        "  angle = (angle-0.5)*angleconstraint # make the random angle constrained\n",
        "  nsample = sample.copy() # preallocate the augmented array to make it faster\n",
        "  for ii in range(len(sample)):\n",
        "    nsample[ii] = rotate(shear(sample[ii], amt[ii]), angle[ii]) # first apply shear, then rotate\n",
        "  return np.squeeze(nsample) # take care if the input had only one sample."
      ],
      "metadata": {
        "id": "T9CflCiur-lr"
      },
      "execution_count": null,
      "outputs": []
    },
    {
      "cell_type": "markdown",
      "source": [
        "Since we have two hyperparameters, we have to do the grid search on a 2 dimensional matrix. We can use our previous experience to inform where to search for the best hyperparameters. "
      ],
      "metadata": {
        "id": "-EdNnol9s4NZ"
      }
    },
    {
      "cell_type": "code",
      "source": [
        "shearconstraints = [0, 0.2,0.4,0.6,0.8,1.0,1.2,1.4,1.6] # the values we want to test\n",
        "angleconstraints = [0,10,20,30,40,50,60] # the values we want to test\n",
        "hyp = cartesian((shearconstraints, angleconstraints)) # cartesian product of both\n",
        "\n",
        "accuracies = np.zeros(len(hyp), dtype=np.float) # we will save the values here\n",
        "\n",
        "for ii in range(len(hyp)):\n",
        "  # create the augmented dataset\n",
        "  augdata = train_X # we include the original images also in the augmented dataset\n",
        "  auglabel = train_y\n",
        "  for jj in range(naugmentations):\n",
        "    augdata = np.concatenate((augdata, augRotateShear(train_X, hyp[ii][0], hyp[ii][1]))) # concatenate the augmented data to the set\n",
        "    auglabel = np.concatenate((auglabel, train_y))  # the labels don't change when we augment\n",
        "\n",
        "  # check the test accuracy\n",
        "  testpred = NN(augdata, auglabel, test_X)\n",
        "  accuracies[ii] = Accuracy(test_y, testpred)\n",
        "  print('Accuracy after augmentation shear:',hyp[ii][0], 'angle:',hyp[ii][1], ' is ', accuracies[ii], flush=True)"
      ],
      "metadata": {
        "colab": {
          "base_uri": "https://localhost:8080/"
        },
        "id": "UfmRisY-swyX",
        "outputId": "b62571a3-e82f-4184-9fea-6bccf9b7d436"
      },
      "execution_count": null,
      "outputs": [
        {
          "output_type": "stream",
          "name": "stderr",
          "text": [
            "/usr/local/lib/python3.7/dist-packages/ipykernel_launcher.py:5: DeprecationWarning: `np.float` is a deprecated alias for the builtin `float`. To silence this warning, use `float` by itself. Doing this will not modify any behavior and is safe. If you specifically wanted the numpy scalar type, use `np.float64` here.\n",
            "Deprecated in NumPy 1.20; for more details and guidance: https://numpy.org/devdocs/release/1.20.0-notes.html#deprecations\n",
            "  \"\"\"\n"
          ]
        },
        {
          "output_type": "stream",
          "name": "stdout",
          "text": [
            "Accuracy after augmentation shear: 0.0 angle: 0.0  is  0.6332\n",
            "Accuracy after augmentation shear: 0.0 angle: 10.0  is  0.5989\n",
            "Accuracy after augmentation shear: 0.0 angle: 20.0  is  0.5953\n",
            "Accuracy after augmentation shear: 0.0 angle: 30.0  is  0.6043\n",
            "Accuracy after augmentation shear: 0.0 angle: 40.0  is  0.5975\n",
            "Accuracy after augmentation shear: 0.0 angle: 50.0  is  0.5978\n",
            "Accuracy after augmentation shear: 0.0 angle: 60.0  is  0.586\n",
            "Accuracy after augmentation shear: 0.2 angle: 0.0  is  0.6335\n",
            "Accuracy after augmentation shear: 0.2 angle: 10.0  is  0.6112\n",
            "Accuracy after augmentation shear: 0.2 angle: 20.0  is  0.5996\n",
            "Accuracy after augmentation shear: 0.2 angle: 30.0  is  0.5936\n",
            "Accuracy after augmentation shear: 0.2 angle: 40.0  is  0.5803\n",
            "Accuracy after augmentation shear: 0.2 angle: 50.0  is  0.5915\n",
            "Accuracy after augmentation shear: 0.2 angle: 60.0  is  0.5901\n",
            "Accuracy after augmentation shear: 0.4 angle: 0.0  is  0.6342\n",
            "Accuracy after augmentation shear: 0.4 angle: 10.0  is  0.5915\n",
            "Accuracy after augmentation shear: 0.4 angle: 20.0  is  0.6234\n",
            "Accuracy after augmentation shear: 0.4 angle: 30.0  is  0.601\n",
            "Accuracy after augmentation shear: 0.4 angle: 40.0  is  0.5891\n",
            "Accuracy after augmentation shear: 0.4 angle: 50.0  is  0.5973\n",
            "Accuracy after augmentation shear: 0.4 angle: 60.0  is  0.5969\n",
            "Accuracy after augmentation shear: 0.6 angle: 0.0  is  0.6338\n",
            "Accuracy after augmentation shear: 0.6 angle: 10.0  is  0.6103\n",
            "Accuracy after augmentation shear: 0.6 angle: 20.0  is  0.5923\n",
            "Accuracy after augmentation shear: 0.6 angle: 30.0  is  0.5988\n",
            "Accuracy after augmentation shear: 0.6 angle: 40.0  is  0.5814\n",
            "Accuracy after augmentation shear: 0.6 angle: 50.0  is  0.5936\n",
            "Accuracy after augmentation shear: 0.6 angle: 60.0  is  0.6012\n",
            "Accuracy after augmentation shear: 0.8 angle: 0.0  is  0.6326\n",
            "Accuracy after augmentation shear: 0.8 angle: 10.0  is  0.5932\n",
            "Accuracy after augmentation shear: 0.8 angle: 20.0  is  0.6128\n",
            "Accuracy after augmentation shear: 0.8 angle: 30.0  is  0.605\n",
            "Accuracy after augmentation shear: 0.8 angle: 40.0  is  0.596\n",
            "Accuracy after augmentation shear: 0.8 angle: 50.0  is  0.5873\n",
            "Accuracy after augmentation shear: 0.8 angle: 60.0  is  0.6161\n",
            "Accuracy after augmentation shear: 1.0 angle: 0.0  is  0.6345\n",
            "Accuracy after augmentation shear: 1.0 angle: 10.0  is  0.6054\n",
            "Accuracy after augmentation shear: 1.0 angle: 20.0  is  0.6168\n",
            "Accuracy after augmentation shear: 1.0 angle: 30.0  is  0.5998\n",
            "Accuracy after augmentation shear: 1.0 angle: 40.0  is  0.6007\n",
            "Accuracy after augmentation shear: 1.0 angle: 50.0  is  0.5963\n",
            "Accuracy after augmentation shear: 1.0 angle: 60.0  is  0.6132\n",
            "Accuracy after augmentation shear: 1.2 angle: 0.0  is  0.6324\n",
            "Accuracy after augmentation shear: 1.2 angle: 10.0  is  0.5866\n",
            "Accuracy after augmentation shear: 1.2 angle: 20.0  is  0.5911\n",
            "Accuracy after augmentation shear: 1.2 angle: 30.0  is  0.5962\n",
            "Accuracy after augmentation shear: 1.2 angle: 40.0  is  0.5948\n",
            "Accuracy after augmentation shear: 1.2 angle: 50.0  is  0.6107\n",
            "Accuracy after augmentation shear: 1.2 angle: 60.0  is  0.5987\n",
            "Accuracy after augmentation shear: 1.4 angle: 0.0  is  0.6341\n",
            "Accuracy after augmentation shear: 1.4 angle: 10.0  is  0.5975\n",
            "Accuracy after augmentation shear: 1.4 angle: 20.0  is  0.5764\n",
            "Accuracy after augmentation shear: 1.4 angle: 30.0  is  0.5974\n",
            "Accuracy after augmentation shear: 1.4 angle: 40.0  is  0.595\n",
            "Accuracy after augmentation shear: 1.4 angle: 50.0  is  0.5864\n",
            "Accuracy after augmentation shear: 1.4 angle: 60.0  is  0.6004\n",
            "Accuracy after augmentation shear: 1.6 angle: 0.0  is  0.6354\n",
            "Accuracy after augmentation shear: 1.6 angle: 10.0  is  0.6172\n",
            "Accuracy after augmentation shear: 1.6 angle: 20.0  is  0.5997\n",
            "Accuracy after augmentation shear: 1.6 angle: 30.0  is  0.6258\n",
            "Accuracy after augmentation shear: 1.6 angle: 40.0  is  0.5848\n",
            "Accuracy after augmentation shear: 1.6 angle: 50.0  is  0.6185\n",
            "Accuracy after augmentation shear: 1.6 angle: 60.0  is  0.5884\n"
          ]
        }
      ]
    },
    {
      "cell_type": "markdown",
      "source": [
        "Let us plot it two dimensionally to see which is the best value for the hyperparameters:"
      ],
      "metadata": {
        "id": "twI4Tk5etBTE"
      }
    },
    {
      "cell_type": "code",
      "source": [
        "fig = plt.figure()\n",
        "ax = fig.add_axes([0.1, 0.1, 0.8, 0.8]) # main axes\n",
        "im = ax.imshow(accuracies.reshape((len(shearconstraints), len(angleconstraints))), cmap='inferno') \n",
        "ax.set_xlabel('angle')\n",
        "ax.set_ylabel('shear')\n",
        "ax.set_xticks(np.arange(len(angleconstraints)));\n",
        "ax.set_xticklabels(angleconstraints);\n",
        "ax.set_yticks(np.arange(len(shearconstraints)));\n",
        "ax.set_yticklabels(shearconstraints);\n",
        "plt.colorbar(im)"
      ],
      "metadata": {
        "colab": {
          "base_uri": "https://localhost:8080/",
          "height": 309
        },
        "id": "CS8X6jLAs7hW",
        "outputId": "79fb6565-9249-4f79-aacc-38104bafa5d8"
      },
      "execution_count": null,
      "outputs": [
        {
          "output_type": "execute_result",
          "data": {
            "text/plain": [
              "<matplotlib.colorbar.Colorbar at 0x7f8f028b1f10>"
            ]
          },
          "metadata": {},
          "execution_count": 35
        },
        {
          "output_type": "display_data",
          "data": {
            "text/plain": [
              "<Figure size 432x288 with 2 Axes>"
            ],
            "image/png": "[encoded data removed]"
          },
          "metadata": {
            "needs_background": "light"
          }
        }
      ]
    },
    {
      "cell_type": "markdown",
      "source": [
        "It seems that rotation and shear don't mix! The best accuracy is when rotation is zero."
      ],
      "metadata": {
        "id": "JRnymka4vnla"
      }
    },
    {
      "cell_type": "markdown",
      "source": [
        "## Questions\n",
        "Try these questions for better understanding. You may not be able to solve all of them. \n",
        "1. What is the best value for angle constraint and shear constraint you got? How much did the accuracy improve as compared to not using augmentations?\n",
        "2. Can you increase the accuracy by increasing the number of augmentations from each sample?\n",
        "3. Try implementing a few augmentations of your own and experimenting with them. A good reference is <a href=https://www.analyticsvidhya.com/blog/2019/12/image-augmentation-deep-learning-pytorch/>here. </a>\n",
        "4. Try combining various augmentations. What is the highest accuracy you can get? What is the smallest training dataset you can take and still get accuracy above 50%?\n",
        "\n",
        "Whenever you do any experiment, a good practice is to vary the hyperparameters gradually and create a graph of your results, like we did for gridsearch. "
      ],
      "metadata": {
        "id": "cU9AxYWJvs_P"
      }
    },
    {
      "cell_type": "markdown",
      "source": [
        "## **ANSWER FOR QUESTION 1**"
      ],
      "metadata": {
        "id": "4bbpu3ejJ9lt"
      }
    },
    {
      "cell_type": "markdown",
      "source": [
        "\n",
        "\n",
        "* The beat values of shear constraint is 0.4,0.6,0.8,1.0,1.2,1.4,1.6 The best values of angle constraint is 0.0,0.0,0.0,0.0,0.0,0.0,10.0.\n",
        "\n"
      ],
      "metadata": {
        "id": "Ko08CsoWKBQX"
      }
    },
    {
      "cell_type": "markdown",
      "source": [
        "## **ANSWER FOR QUESTION 2**"
      ],
      "metadata": {
        "id": "uszKmEFMKHCT"
      }
    },
    {
      "cell_type": "markdown",
      "source": [
        "\n",
        "\n",
        "* Yes,we increase the accuracy by increasing the number of augumentaions from each sample.\n",
        "\n"
      ],
      "metadata": {
        "id": "K10elg04KLEY"
      }
    },
    {
      "cell_type": "markdown",
      "source": [
        "## **ANSWER FOR QUESTION 3**"
      ],
      "metadata": {
        "id": "giuDAwFrMmtI"
      }
    },
    {
      "cell_type": "code",
      "source": [
        "from google.colab import drive\n",
        "drive.mount('/content/gdrive')"
      ],
      "metadata": {
        "id": "U8vjAkkdvjOk",
        "outputId": "131de54b-6eae-4b4b-a75f-d7859cdd28ae",
        "colab": {
          "base_uri": "https://localhost:8080/"
        }
      },
      "execution_count": null,
      "outputs": [
        {
          "output_type": "stream",
          "name": "stdout",
          "text": [
            "Mounted at /content/gdrive\n"
          ]
        }
      ]
    },
    {
      "cell_type": "code",
      "source": [
        "# importing all the required libraries\n",
        "import skimage.io as io\n",
        "image=io.imread('/content/machinelearning.jpeg')\n",
        "print(image.shape)\n",
        "io.imshow(image)"
      ],
      "metadata": {
        "id": "QiqaEZYzKkks",
        "outputId": "f5993bd8-93f9-4884-db89-e76359f3ebd3",
        "colab": {
          "base_uri": "https://localhost:8080/",
          "height": 332
        }
      },
      "execution_count": null,
      "outputs": [
        {
          "output_type": "stream",
          "name": "stdout",
          "text": [
            "(785, 1200, 3)\n"
          ]
        },
        {
          "output_type": "execute_result",
          "data": {
            "text/plain": [
              "<matplotlib.image.AxesImage at 0x7f8f01cba6d0>"
            ]
          },
          "metadata": {},
          "execution_count": 38
        },
        {
          "output_type": "display_data",
          "data": {
            "text/plain": [
              "<Figure size 432x288 with 1 Axes>"
            ],
            "image/png": "[encoded data removed]"
          },
          "metadata": {
            "needs_background": "light"
          }
        }
      ]
    },
    {
      "cell_type": "code",
      "source": [
        "import numpy as np\n",
        "flipLR=np.fliplr(image)\n",
        "plt.imshow(flipLR)\n",
        "plt.title('Left to Right')"
      ],
      "metadata": {
        "id": "6rRK2SQgLQAp",
        "outputId": "84423508-9d5c-41db-9a4c-ed35ff483a49",
        "colab": {
          "base_uri": "https://localhost:8080/",
          "height": 298
        }
      },
      "execution_count": null,
      "outputs": [
        {
          "output_type": "execute_result",
          "data": {
            "text/plain": [
              "Text(0.5, 1.0, 'Left to Right')"
            ]
          },
          "metadata": {},
          "execution_count": 39
        },
        {
          "output_type": "display_data",
          "data": {
            "text/plain": [
              "<Figure size 432x288 with 1 Axes>"
            ],
            "image/png": "[encoded data removed]"
          },
          "metadata": {
            "needs_background": "light"
          }
        }
      ]
    },
    {
      "cell_type": "markdown",
      "source": [
        "## **ANSWER FOR QUESTION 4**"
      ],
      "metadata": {
        "id": "ohunzJSuLZaP"
      }
    },
    {
      "cell_type": "code",
      "source": [
        "from google.colab import drive\n",
        "drive.mount('/content/gdrive')"
      ],
      "metadata": {
        "colab": {
          "base_uri": "https://localhost:8080/"
        },
        "id": "IetNYFtbM34N",
        "outputId": "b06cd711-3693-4b29-bfad-533225a50821"
      },
      "execution_count": null,
      "outputs": [
        {
          "output_type": "stream",
          "name": "stdout",
          "text": [
            "Drive already mounted at /content/gdrive; to attempt to forcibly remount, call drive.mount(\"/content/gdrive\", force_remount=True).\n"
          ]
        }
      ]
    },
    {
      "cell_type": "code",
      "source": [
        "# importing all the required libraries\n",
        "import skimage.io as io\n",
        "image=io.imread('/content/machinelearning.jpeg')\n",
        "print(image.shape)\n",
        "io.imshow(image)"
      ],
      "metadata": {
        "colab": {
          "base_uri": "https://localhost:8080/",
          "height": 332
        },
        "id": "gGOKgxniM7ee",
        "outputId": "a15e640f-7729-4a61-bd4d-1a0831fa93d2"
      },
      "execution_count": null,
      "outputs": [
        {
          "output_type": "stream",
          "name": "stdout",
          "text": [
            "(785, 1200, 3)\n"
          ]
        },
        {
          "output_type": "execute_result",
          "data": {
            "text/plain": [
              "<matplotlib.image.AxesImage at 0x7f8efd11c110>"
            ]
          },
          "metadata": {},
          "execution_count": 42
        },
        {
          "output_type": "display_data",
          "data": {
            "text/plain": [
              "<Figure size 432x288 with 1 Axes>"
            ],
            "image/png": "[encoded data removed]"
          },
          "metadata": {
            "needs_background": "light"
          }
        }
      ]
    },
    {
      "cell_type": "code",
      "source": [
        "# flip image up to down \n",
        "import numpy as np\n",
        "flipUD=np.flipud(image)\n",
        "plt.imshow(flipUD)\n",
        "plt.title('Up Down Flipped')"
      ],
      "metadata": {
        "id": "6ClfEGfULTW_",
        "outputId": "2468f502-58bf-4103-877c-8e543c38ec78",
        "colab": {
          "base_uri": "https://localhost:8080/",
          "height": 298
        }
      },
      "execution_count": null,
      "outputs": [
        {
          "output_type": "execute_result",
          "data": {
            "text/plain": [
              "Text(0.5, 1.0, 'Up Down Flipped')"
            ]
          },
          "metadata": {},
          "execution_count": 43
        },
        {
          "output_type": "display_data",
          "data": {
            "text/plain": [
              "<Figure size 432x288 with 1 Axes>"
            ],
            "image/png": "[encoded data removed]"
          },
          "metadata": {
            "needs_background": "light"
          }
        }
      ]
    }
  ]
}